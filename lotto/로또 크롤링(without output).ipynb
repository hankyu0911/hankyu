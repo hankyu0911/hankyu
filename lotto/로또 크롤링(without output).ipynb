{
 "cells": [
  {
   "cell_type": "markdown",
   "id": "0c5dd4c8",
   "metadata": {},
   "source": [
    "# 로또 당첨정보 크롤링"
   ]
  },
  {
   "cell_type": "code",
   "execution_count": null,
   "id": "89df0ed4",
   "metadata": {},
   "outputs": [],
   "source": [
    "from bs4 import BeautifulSoup\n",
    "from selenium import webdriver\n",
    "from selenium.webdriver.support.select import Select\n",
    "import time\n",
    "import re \n",
    "import pandas as pd\n",
    "import numpy as np"
   ]
  },
  {
   "cell_type": "code",
   "execution_count": null,
   "id": "502f88bd",
   "metadata": {},
   "outputs": [],
   "source": [
    "# 전체 리스트 \n",
    "win_result_list = []\n",
    "win_date_list = []\n",
    "total_reward_list = []\n",
    "each_reward_list = []\n",
    "num_of_winner_list = []\n",
    "win_cat_list = []\n",
    "total_saleprice_list = []\n",
    "\n",
    "# 크롬드라이버 옵션 지정 : 창 최대화\n",
    "options = webdriver.ChromeOptions()\n",
    "options.add_argument('--start-maximized')\n",
    "\n",
    "# 드라이버 실행\n",
    "driver = webdriver.Chrome('chromedriver.exe',options = options)\n",
    "\n",
    "# 로또 당첨번호 확인 홈페이지 접속\n",
    "driver.get('https://dhlottery.co.kr/gameResult.do?method=byWin')\n",
    "\n",
    "# 회차목록 가져오기\n",
    "round_list = driver.find_element_by_id('dwrNoList').get_attribute('innerText').split('\\n')\n",
    "\n",
    "# 각 회차별 당첨번호 가져오기\n",
    "for r in round_list:\n",
    "    \n",
    "    # 드롭다운 회차 메뉴 값 변경\n",
    "    select_round = Select(driver.find_element_by_id('dwrNoList')) \n",
    "    select_round.select_by_value(str(r))\n",
    "    driver.find_element_by_id('searchBtn').click()\n",
    "    \n",
    "    # 대기시간 1초\n",
    "    time.sleep(1)\n",
    "    \n",
    "    # 사이트의 url 정보(html)를 가져와 Parsing\n",
    "    soup = BeautifulSoup(driver.page_source,'html.parser')\n",
    "    # 회차별 당첨번호 리스트 생성 : 'span' 태그의 'ball'로 시작한는 클래스 text 추출\n",
    "    win_result = [num.text for num in soup.find_all('span',re.compile('ball.*'))]\n",
    "    \n",
    "    win_date = '-'.join(re.compile('\\d+').findall(soup.select('p.desc')[0].text))\n",
    "    \n",
    "    #당첨금액 리스트 생성\n",
    "    rewards = [int(re.sub('[,원]','',x.text)) for  x in soup.select('tr > td.tar')]\n",
    "    total_rewards = []\n",
    "    each_rewards = []\n",
    "    for idx, reward in enumerate(rewards):\n",
    "        # 등수별 전체 당첨금액\n",
    "        if idx%2==0:\n",
    "            total_rewards.append(reward)\n",
    "        # 등수별 1인당 당첨금액\n",
    "        else :\n",
    "            each_rewards.append(reward)\n",
    "    # 당첨자수 \n",
    "    num_of_winners = [x/y if x !=0 else 0 for x,y in zip(total_rewards,each_rewards)]\n",
    "    \n",
    "    # 총판매액\n",
    "    total_saleprice = int(re.sub('[,원]','',soup.select_one('li > strong').text))\n",
    "    \n",
    "    # 1등 당첨 유형\n",
    "    cat_list= re.compile('\\w+\\d+').findall(soup.select('td')[5].text)\n",
    "    win_cats = list(map(lambda x: re.compile('[가-힣]+').search(x).group(),cat_list))\n",
    "    values = list(map(lambda x: re.compile('\\d+').search(x).group(),cat_list))\n",
    "    # 모든 유형 없을경우 해당 유형 생성 및 값에 0 입력\n",
    "    none_cats = [cat for cat in ['자동','수동','반자동'] if cat not in win_cats]\n",
    "    for none_cat in none_cats:\n",
    "        win_cats.append(none_cat)\n",
    "        values.append(0)\n",
    "    # 자동, 수동, 반자동 순으로 값 정렬\n",
    "    cat_dict  = {cat : value for cat,value in zip(win_cats,values)}\n",
    "    sorted_values = [int(cat_dict[cat]) for cat in ['자동','수동','반자동']] \n",
    "    \n",
    "    print('*'*20,r,'회차','*'*20)\n",
    "    print('당첨번호 :',win_result)\n",
    "    print('당첨날짜 :',win_date)\n",
    "    print('총 당첨금액 :', total_rewards)\n",
    "    print('1명당 당첨금액 :',each_rewards)\n",
    "    print('당첨자수 :',num_of_winners)\n",
    "    print('판매금액 :',total_saleprice)\n",
    "    print('유형별 1등 당첨자수 : ',sorted_values)\n",
    "    print()\n",
    "    \n",
    "    # 전체 리스트에 저장\n",
    "    win_result_list.append(win_result)\n",
    "    win_date_list.append(win_date)\n",
    "    total_reward_list.append(total_rewards)\n",
    "    each_reward_list.append(each_rewards)\n",
    "    num_of_winner_list.append(num_of_winners)\n",
    "    total_saleprice_list.append(total_saleprice)\n",
    "    win_cat_list.append(sorted_values)\n",
    "    \n",
    "    \n",
    "    "
   ]
  },
  {
   "cell_type": "markdown",
   "id": "c857b731",
   "metadata": {},
   "source": [
    "# 크롤링 결과 확인"
   ]
  },
  {
   "cell_type": "code",
   "execution_count": null,
   "id": "0a69fe32",
   "metadata": {},
   "outputs": [],
   "source": [
    "# 각 리스트 원소 개수 확인\n",
    "print(len(round_list))\n",
    "print(len(win_result_list))\n",
    "print(len(win_date_list))\n",
    "print(len(total_reward_list))\n",
    "print(len(each_reward_list))\n",
    "print(len(num_of_winner_list))\n",
    "print(len(total_saleprice_list))\n",
    "print(len(win_cat_list))"
   ]
  },
  {
   "cell_type": "code",
   "execution_count": null,
   "id": "2b1ca8d3",
   "metadata": {},
   "outputs": [],
   "source": [
    "# 당첨번호 6개 + 보너스\n",
    "win_result_list"
   ]
  },
  {
   "cell_type": "code",
   "execution_count": null,
   "id": "743d185a",
   "metadata": {},
   "outputs": [],
   "source": [
    "# 당첨날짜\n",
    "win_date_list"
   ]
  },
  {
   "cell_type": "code",
   "execution_count": null,
   "id": "d33c89f0",
   "metadata": {},
   "outputs": [],
   "source": [
    "# 총 당첨금액\n",
    "total_reward_list"
   ]
  },
  {
   "cell_type": "code",
   "execution_count": null,
   "id": "857376db",
   "metadata": {},
   "outputs": [],
   "source": [
    "# 1인당 당첨금액\n",
    "each_reward_list"
   ]
  },
  {
   "cell_type": "code",
   "execution_count": null,
   "id": "82e3bf39",
   "metadata": {},
   "outputs": [],
   "source": [
    "# 당첨자수\n",
    "num_of_winner_list"
   ]
  },
  {
   "cell_type": "code",
   "execution_count": null,
   "id": "92be2340",
   "metadata": {},
   "outputs": [],
   "source": [
    "# 총판매액\n",
    "total_saleprice_list"
   ]
  },
  {
   "cell_type": "code",
   "execution_count": null,
   "id": "10a5f310",
   "metadata": {},
   "outputs": [],
   "source": [
    "# 유형별 1등 당첨자수(자동, 수동, 반자동)\n",
    "win_cat_list"
   ]
  },
  {
   "cell_type": "code",
   "execution_count": null,
   "id": "d5deebeb",
   "metadata": {},
   "outputs": [],
   "source": [
    "# 최종 데이터프레임 생성\n",
    "lotto_df = pd.DataFrame({'회차' : round_list,\n",
    "             '당첨번호1' : [num[0] for num in win_result_list],\n",
    "              '당첨번호2' : [num[1] for num in win_result_list],\n",
    "              '당첨번호3' : [num[2] for num in win_result_list],\n",
    "              '당첨번호4' : [num[3] for num in win_result_list],\n",
    "              '당첨번호5' : [num[4] for num in win_result_list],\n",
    "              '당첨번호6' : [num[5] for num in win_result_list],\n",
    "              '당첨번호_보너스' : [num[6] for num in win_result_list],\n",
    "             '당첨날짜' : win_date_list,\n",
    "             '총당첨금액_1등' : [total_reward[0] for total_reward in total_reward_list],\n",
    "              '총당첨금액_2등' : [total_reward[1] for total_reward in total_reward_list],\n",
    "              '총당첨금액_3등' : [total_reward[2] for total_reward in total_reward_list],\n",
    "              '총당첨금액_4등' : [total_reward[3] for total_reward in total_reward_list],\n",
    "              '총당첨금액_5등' : [total_reward[4] for total_reward in total_reward_list],\n",
    "             '1인당첨금액_1등' : [each_reward[0] for each_reward in each_reward_list],\n",
    "              '1인당첨금액_2등' : [each_reward[1] for each_reward in each_reward_list],\n",
    "              '1인당첨금액_3등' : [each_reward[2] for each_reward in each_reward_list],\n",
    "              '1인당첨금액_4등' : [each_reward[3] for each_reward in each_reward_list],\n",
    "              '1인당첨금액_5등' : [each_reward[4] for each_reward in each_reward_list],\n",
    "             '당첨자수_1등' : [num_of_winner[0] for num_of_winner in num_of_winner_list],\n",
    "              '당첨자수_2등' : [num_of_winner[1] for num_of_winner in num_of_winner_list],\n",
    "              '당첨자수_3등' : [num_of_winner[2] for num_of_winner in num_of_winner_list],\n",
    "              '당첨자수_4등' : [num_of_winner[3] for num_of_winner in num_of_winner_list],\n",
    "              '당첨자수_5등' : [num_of_winner[4] for num_of_winner in num_of_winner_list],\n",
    "             '판매금액' : total_saleprice_list,\n",
    "             '1등당첨유형_자동' : [win_cat[0] for win_cat in win_cat_list],\n",
    "             '1등당첨유형_수동' : [win_cat[1] for win_cat in win_cat_list],\n",
    "             '1등당첨유형_반자동' : [win_cat[2] for win_cat in win_cat_list]})"
   ]
  },
  {
   "cell_type": "code",
   "execution_count": null,
   "id": "d0c4679d",
   "metadata": {},
   "outputs": [],
   "source": [
    "lotto_df.head()"
   ]
  },
  {
   "cell_type": "code",
   "execution_count": null,
   "id": "96d10c0e",
   "metadata": {},
   "outputs": [],
   "source": [
    "# 데이터프레임 저장\n",
    "lotto_df.to_csv('로또당첨정보.csv',encoding='cp949',index = False)"
   ]
  },
  {
   "cell_type": "markdown",
   "id": "6484b056",
   "metadata": {},
   "source": [
    "# 추가 : 1등 당첨 판매점 정보 크롤링"
   ]
  },
  {
   "cell_type": "code",
   "execution_count": null,
   "id": "26ca2847",
   "metadata": {},
   "outputs": [],
   "source": [
    "options = webdriver.ChromeOptions()\n",
    "options.add_argument('--start-maximized')\n",
    "driver = webdriver.Chrome('chromedriver.exe',options = options)\n",
    "driver.get('https://pyony.com/lotto/rounds/latest/')\n",
    "time.sleep(1)\n",
    "\n",
    "store_name_list = []\n",
    "store_cat_list = []\n",
    "store_add_list = []\n",
    "\n",
    "for r in round_list:\n",
    "    \n",
    "    # 드롭다운 회차 메뉴 값 변경\n",
    "    select_round = Select(driver.find_element_by_id('id_round'))\n",
    "    select_round.select_by_visible_text(str(r))\n",
    "    driver.find_element_by_id('btn_search').click()\n",
    "    time.sleep(1)\n",
    "    \n",
    "    # url정보(html) Paring\n",
    "    soup = BeautifulSoup(driver.page_source,'html.parser')\n",
    "    \n",
    "    # 당첨 판매점 정보 없는 회차 존재 \n",
    "    # 1등 당첨자 존재하지만 판매점 정보 존재 X -> 코드 실행 중지(1 - 261회 미존재)\n",
    "    try:\n",
    "        # 판매점 정보 가져오기\n",
    "        store_info_list = [x.text.strip() for x in soup.select('tbody')[1].select('td')]\n",
    "    except:\n",
    "        # 1등 당첨자가 없을 때 판매점 정보 존재 X -> 다음 회차로 넘어감\n",
    "        if soup.select('tbody > tr')[0].select_one('td').text =='0':\n",
    "            continue\n",
    "        # 1등 당첨자 존재 할 때 판매점 정보 존재 X -> 코드 실행 중지(이전 회차 모두 존재 X)\n",
    "        else:\n",
    "            break\n",
    "    # 판매점 이름\n",
    "    store_name = store_info_list[0::3]\n",
    "    # 판매점 당첨 유형\n",
    "    store_cat = store_info_list[1::3]\n",
    "    # 판매점 주소\n",
    "    store_add = store_info_list[2::3]\n",
    "    \n",
    "    print('*'*20,r,'회차','*'*20)\n",
    "    print('1등 판매점 :',','.join(store_name),end='\\n\\n')\n",
    "    print('당첨 유형 :',','.join(store_cat),end='\\n\\n')\n",
    "    print('주소 :',','.join(store_add),end='\\n\\n')\n",
    "    \n",
    "    # exist_round_list : 판매점 정보 존채 회차 리스트 \n",
    "    exist_round_list.append(r)\n",
    "    store_name_list.append(store_name)\n",
    "    store_cat_list.append(store_cat)\n",
    "    store_add_list.append(store_add)"
   ]
  },
  {
   "cell_type": "code",
   "execution_count": null,
   "id": "de2ae86f",
   "metadata": {},
   "outputs": [],
   "source": [
    "# 최종 데이터프레임 생성\n",
    "store_df = pd.DataFrame(columns = ['회차','판매점','당첨유형','주소'])\n",
    "\n",
    "# 판매점 정보 존재 회차 수 만큼반복\n",
    "for r in range(len(exist_round_list)):\n",
    "    # 해당 회차에 해당하는 판매점 수 만큼 회차 원소값 복제\n",
    "    r_list = [exist_round_list[r]] * len(store_name_list[r])\n",
    "    # 회차별 데이터프레임 생성\n",
    "    temp_df = pd.DataFrame({'회차' : r_list,\n",
    "                          '판매점' : store_name_list[r],\n",
    "                          '당첨유형' : store_cat_list[r],\n",
    "                          '주소' : store_add_list[r]})\n",
    "    #최종 데이터프레임에 회차별 데이터프레임 추가\n",
    "    store_df = pd.concat([store_df,temp_df],axis=0)\n",
    "store_df.reset_index(drop=True,inplace = True)"
   ]
  },
  {
   "cell_type": "code",
   "execution_count": null,
   "id": "7ab1b483",
   "metadata": {},
   "outputs": [],
   "source": [
    "store_df.head(30)"
   ]
  },
  {
   "cell_type": "code",
   "execution_count": null,
   "id": "b670e60d",
   "metadata": {},
   "outputs": [],
   "source": [
    "store_df.to_csv('판매점정보.csv',encoding='cp949',index = False)"
   ]
  }
 ],
 "metadata": {
  "kernelspec": {
   "display_name": "Python 3",
   "language": "python",
   "name": "python3"
  },
  "language_info": {
   "codemirror_mode": {
    "name": "ipython",
    "version": 3
   },
   "file_extension": ".py",
   "mimetype": "text/x-python",
   "name": "python",
   "nbconvert_exporter": "python",
   "pygments_lexer": "ipython3",
   "version": "3.8.8"
  }
 },
 "nbformat": 4,
 "nbformat_minor": 5
}
