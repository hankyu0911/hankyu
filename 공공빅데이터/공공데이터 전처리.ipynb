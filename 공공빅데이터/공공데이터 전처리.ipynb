{
 "cells": [
  {
   "cell_type": "code",
   "execution_count": 1,
   "id": "11b80b22",
   "metadata": {},
   "outputs": [],
   "source": [
    "import os\n",
    "import pandas as pd\n",
    "import numpy as np\n",
    "import seaborn as sns\n",
    "import matplotlib.pyplot as plt\n",
    "\n",
    "\n",
    "import matplotlib\n",
    "from matplotlib import font_manager, rc\n",
    "import platform\n",
    "\n",
    "if platform.system() == 'Windows':\n",
    "# 윈도우인 경우\n",
    "    font_name = font_manager.FontProperties(fname=\"c:/Windows/Fonts/malgun.ttf\").get_name()\n",
    "    rc('font', family=font_name)\n",
    "else:    \n",
    "# Mac 인 경우\n",
    "    rc('font', family='AppleGothic')\n",
    "    \n",
    "matplotlib.rcParams['axes.unicode_minus'] = False   "
   ]
  },
  {
   "cell_type": "markdown",
   "id": "77d07ee0",
   "metadata": {},
   "source": [
    "## 서울시_동별_인구수"
   ]
  },
  {
   "cell_type": "code",
   "execution_count": 2,
   "id": "b302f457",
   "metadata": {},
   "outputs": [],
   "source": [
    "# 서울시 구별 인구수 통합\n",
    "gu_list = ['종로구','중구','용산구','성동구','광진구','동대문구','중랑구','성북구','강북구','도봉구','노원구','은평구','서대문구','마포구','양천구','강서구','구로구','금천구','영등포구','동작구','관악구','서초구','강남구','송파구','강동구']\n",
    "data = pd.DataFrame()\n",
    "for gu in gu_list:\n",
    "    temp_data = pd.read_csv('{}_동별인구수.csv'.format(gu),encoding='cp949')\n",
    "    data = pd.concat([data,temp_data])"
   ]
  },
  {
   "cell_type": "code",
   "execution_count": 3,
   "id": "6bef1b3b",
   "metadata": {},
   "outputs": [],
   "source": [
    "# 총인구수 항목만 추출\n",
    "data1 = data[data['항목']=='총인구수 (명)']"
   ]
  },
  {
   "cell_type": "code",
   "execution_count": 4,
   "id": "7738fbb5",
   "metadata": {},
   "outputs": [],
   "source": [
    "# -구 데이터 제거\n",
    "index = []\n",
    "for i in data1['행정구역(동읍면)별']:\n",
    "    index.append(i.endswith('구')==False)\n",
    "    \n",
    "data2 = data1[index].reset_index(drop=True)"
   ]
  },
  {
   "cell_type": "code",
   "execution_count": 5,
   "id": "2a2f51a4",
   "metadata": {},
   "outputs": [
    {
     "data": {
      "text/plain": [
       "Index(['행정구역(동읍면)별', '항목', '계', '0 - 4세', '5 - 9세', '10 - 14세', '15 - 19세',\n",
       "       '20 - 24세', '25 - 29세', '30 - 34세', '35 - 39세', '40 - 44세', '45 - 49세',\n",
       "       '50 - 54세', '55 - 59세', '60 - 64세', '65 - 69세', '70 - 74세', '75 - 79세',\n",
       "       '80 - 84세', '85 - 89세', '90 - 94세', '95 - 99세', '100+'],\n",
       "      dtype='object')"
      ]
     },
     "execution_count": 5,
     "metadata": {},
     "output_type": "execute_result"
    }
   ],
   "source": [
    "data2.columns"
   ]
  },
  {
   "cell_type": "code",
   "execution_count": 6,
   "id": "8509f5ee",
   "metadata": {},
   "outputs": [],
   "source": [
    "final_data = data2[['행정구역(동읍면)별','계']]\n",
    "final_data.columns = ['행정구역','인구수']"
   ]
  },
  {
   "cell_type": "code",
   "execution_count": 7,
   "id": "f4c685c3",
   "metadata": {},
   "outputs": [],
   "source": [
    "final_data.to_csv('서울시_동별인구수_최종.csv',index=False)"
   ]
  },
  {
   "cell_type": "markdown",
   "id": "4a8247a7",
   "metadata": {},
   "source": [
    "## 서울시_동별_폐기물"
   ]
  },
  {
   "cell_type": "code",
   "execution_count": 8,
   "id": "61ba28bf",
   "metadata": {},
   "outputs": [],
   "source": [
    "# % -> 소수점 변경\n",
    "recycle = pd.read_csv('서울시_자치구별_재활용률_최종.csv',encoding='utf-8')\n",
    "for i in range(len(recycle)):\n",
    "    recycle.loc[i,'재활용률'] = int(recycle['재활용률'][i][:2])/100\n",
    "recycle.to_csv('서울시_자치구별_재활용률_찐최종.csv')"
   ]
  },
  {
   "cell_type": "code",
   "execution_count": 9,
   "id": "f10fbe5d",
   "metadata": {},
   "outputs": [
    {
     "name": "stdout",
     "output_type": "stream",
     "text": [
      "관악구 ['보라매동', '청림동', '성현동', '행운동', '낙성대동', '청룡동', '은천동', '중앙동', '인헌동', '남현동', '서원동', '신원동', '서림동', '신사동', '신림동', '난향동', '조원동', '대학동', '삼성동', '미성동', '난곡동']\n",
      "강남구 ['신사동', '논현1동', '논현2동', '압구정동', '청담동', '삼성1동', '삼성2동', '대치1동', '대치2동', '대치4동', '역삼1동', '역삼2동', '도곡1동', '도곡2동', '개포1동', '개포2동', '개포4동', '세곡동', '일원본동', '일원1동', '일원2동', '수서동']\n"
     ]
    }
   ],
   "source": [
    "# 구별 폐기물 발생량,재활용량 -> 동별 \n",
    "gu_list = ['종로구','중구','용산구','성동구','광진구','동대문구','중랑구','성북구','강북구','도봉구','노원구','은평구','서대문구','마포구','양천구','강서구','구로구','금천구','영등포구','동작구','관악구','서초구','강남구','송파구','강동구']\n",
    "recycle = pd.read_csv('서울시_자치구별_재활용률_찐최종.csv',encoding='utf-8')\n",
    "final_df = pd.DataFrame()\n",
    "for gu in gu_list:\n",
    "    temp_data = pd.read_csv('{}_동별인구수.csv'.format(gu),encoding='cp949')\n",
    "    temp_data = temp_data[temp_data['항목']=='총인구수 (명)']\n",
    "    dong_list = temp_data['행정구역(동읍면)별'].unique().tolist()[1:]\n",
    "    if '신사동' in dong_list:         #신사동 중복 -> 신사동 포함 구 출력 : 관악구, 강남구 \n",
    "        print(gu,dong_list)\n",
    "    구_인구 = temp_data.loc[temp_data['행정구역(동읍면)별']==gu,'계'].values[0]\n",
    "    구발생량 = recycle.loc[recycle['자치구별']==gu,'발생량'].values[0]\n",
    "    구재활용량 = recycle.loc[recycle['자치구별']==gu,'재활용량'].values[0]\n",
    "    일인당발생량 = 구발생량 / 구_인구\n",
    "    일인당재활용량 = 구재활용량 / 구_인구\n",
    "    동발생량_list = [일인당발생량 * temp_data.loc[temp_data['행정구역(동읍면)별']==dong,'계'].values[0] for dong in dong_list]\n",
    "    동재활용량_list = [일인당재활용량 * temp_data.loc[temp_data['행정구역(동읍면)별']==dong,'계'].values[0] for dong in dong_list]\n",
    "    \n",
    "    \n",
    "    #동재활용률_list = [round(동재활용량/동발생량,2) for 동발생량,동재활용량 in zip(동발생량_list,동재활용량_list)]\n",
    "    temp_df = pd.DataFrame({'시군구' : gu,\n",
    "                            '행정구역' : dong_list,\n",
    "                           '발생량' : 동발생량_list,\n",
    "                           '재활용량' : 동재활용량_list,\n",
    "                           })\n",
    "    final_df = pd.concat([final_df,temp_df])\n",
    "final_df.reset_index(drop=True,inplace=True)\n",
    "final_df.to_csv('서울시_동별_폐기물_최종.csv',index=False,encoding='euc-kr')"
   ]
  },
  {
   "cell_type": "markdown",
   "id": "8084a1c7",
   "metadata": {},
   "source": [
    "## 주택종류별 데이터"
   ]
  },
  {
   "cell_type": "code",
   "execution_count": 10,
   "id": "f24beb8a",
   "metadata": {},
   "outputs": [],
   "source": [
    "df = pd.read_csv('서울시_최종.csv',encoding='cp949')\n",
    "df.loc[(df['시군구']=='관악구') & (df['행정구역']=='신사동'),'행정구역'] = '관악구_신사동'\n",
    "df.loc[(df['시군구']=='강남구') & (df['행정구역']=='신사동'),'행정구역'] = '강남구_신사동'"
   ]
  },
  {
   "cell_type": "code",
   "execution_count": 11,
   "id": "5e2b54ca",
   "metadata": {},
   "outputs": [],
   "source": [
    "data = pd.read_csv('건물용도별개수.csv',encoding='cp949')\n",
    "data.rename(columns={'행정구역' : '이거아님',\n",
    "                     'ADM_NM' : '행정구역'},inplace=True)\n",
    "\n",
    "data.loc[(data['시군구']=='관악구') & (data['행정구역']=='신사동'),'행정구역'] = '관악구_신사동'\n",
    "data.loc[(data['시군구']=='강남구') & (data['행정구역']=='신사동'),'행정구역'] = '강남구_신사동'\n"
   ]
  },
  {
   "cell_type": "code",
   "execution_count": 12,
   "id": "518a0f08",
   "metadata": {},
   "outputs": [],
   "source": [
    "#세부용도명 결측값 제거 \n",
    "data = data[data['세부용도명'].isnull()==False].reset_index(drop=True)"
   ]
  },
  {
   "cell_type": "code",
   "execution_count": 13,
   "id": "522f0606",
   "metadata": {},
   "outputs": [],
   "source": [
    "# 상업용, 주거용 변수 추가\n",
    "for i in ['상업용','주거용']:\n",
    "    temp_data = data.loc[data['건물용도분류명']==i].reset_index(drop=True).groupby(by='행정구역').count()\n",
    "    df = pd.merge(df,temp_data.iloc[:,1],on='행정구역',how='left')\n",
    "    \n"
   ]
  },
  {
   "cell_type": "code",
   "execution_count": 14,
   "id": "21d0e554",
   "metadata": {},
   "outputs": [],
   "source": [
    "# 주택 변수 추가\n",
    "주택_list = [x for x in data['세부용도명'].unique().tolist() if x.endswith('주택')]\n",
    "for i in 주택_list:\n",
    "    temp_data = data.loc[data['세부용도명']==i].reset_index(drop=True).groupby(by='행정구역').count()\n",
    "    df = pd.merge(df,temp_data.iloc[:,1],on='행정구역',how='left')"
   ]
  },
  {
   "cell_type": "code",
   "execution_count": 15,
   "id": "1a58007a",
   "metadata": {},
   "outputs": [],
   "source": [
    "# 아파트 변수 추가\n",
    "temp_data = data.loc[data['세부용도명']=='아파트'].reset_index(drop=True).groupby(by='행정구역').count()\n",
    "df = pd.merge(df,temp_data.iloc[:,1],on='행정구역',how='left') "
   ]
  },
  {
   "cell_type": "code",
   "execution_count": 16,
   "id": "41a6bff9",
   "metadata": {},
   "outputs": [],
   "source": [
    "# df.columns =['시군구', '행정구역', '인구수', '가구수', '세대당인구수', '일인가구수', '기초수급가구수', '소득분위',\n",
    "#        '재활용량', '쓰레기발생량', '상업용', '주거용', '단독주택', '다가구주택', '다세대주택', \n",
    "#              '다중주택', '연립주택', '공동주택', '아파트']\n"
   ]
  },
  {
   "cell_type": "code",
   "execution_count": 17,
   "id": "44dbaad2",
   "metadata": {},
   "outputs": [],
   "source": [
    "# 결측값 처리 -> 0\n",
    "df = df.fillna(0)"
   ]
  },
  {
   "cell_type": "code",
   "execution_count": 18,
   "id": "ce1fe137",
   "metadata": {},
   "outputs": [],
   "source": [
    "# 자료형 변경 -> float\n",
    "df.iloc[:,2:] = df.iloc[:,2:].astype('float')"
   ]
  },
  {
   "cell_type": "code",
   "execution_count": 60,
   "id": "d09e3e5a",
   "metadata": {},
   "outputs": [],
   "source": [
    "# 연립주택, 아파트에 분리수거함 있다고 가정\n",
    "# df['분리수거함개수'] =df['연립주택'] + df['아파트'] "
   ]
  },
  {
   "cell_type": "code",
   "execution_count": 20,
   "id": "3fce3a62",
   "metadata": {},
   "outputs": [],
   "source": [
    "df.to_csv('서울시_최종_주택종류추가.csv',encoding='cp949',index=False)"
   ]
  },
  {
   "cell_type": "code",
   "execution_count": 61,
   "id": "16e81434",
   "metadata": {},
   "outputs": [],
   "source": [
    "# df_ = df.copy()\n",
    "# df_.drop(['단독주택','다가구주택','다세대주택','다중주택','연립주택','공동주택','아파트'],axis=1,inplace=True)\n",
    "# df_.to_csv('서울시_최종.csv',encoding='cp949',index=False)"
   ]
  },
  {
   "cell_type": "code",
   "execution_count": 22,
   "id": "15649440",
   "metadata": {},
   "outputs": [],
   "source": [
    "data = pd.read_csv('서울시_최종.csv',encoding='cp949')\n",
    "data.to_csv('서울시_최종.csv',encoding='cp949',index=False)"
   ]
  },
  {
   "cell_type": "markdown",
   "id": "0eefe29d",
   "metadata": {},
   "source": [
    "## 서울시 외식업"
   ]
  },
  {
   "cell_type": "code",
   "execution_count": 26,
   "id": "4ccec258",
   "metadata": {},
   "outputs": [],
   "source": [
    "#사용안함\n",
    "#서울시 외식업 데이터\n",
    "store = pd.read_csv('서울시_외식업.csv',encoding='utf-8')\n",
    "\n",
    "#동 데이터만 추출\n",
    "idx = store.isnull()['행정구역']==False\n",
    "store = store.loc[idx,['행정구역','전체점포수']].reset_index(drop=True)\n",
    "store['전체점포수'] = [x.replace(',','') for x in store['전체점포수'].tolist()]\n",
    "store.rename(columns = {'전체점포수' : '외식업점포수'},inplace=True)\n",
    "store.to_csv('서울시_외식업_최종.csv',encoding='cp949',index=False)\n"
   ]
  },
  {
   "cell_type": "markdown",
   "id": "7c2707f7",
   "metadata": {},
   "source": [
    "## 서울시 1인가구"
   ]
  },
  {
   "cell_type": "code",
   "execution_count": 27,
   "id": "0df40132",
   "metadata": {},
   "outputs": [],
   "source": [
    "data = pd.read_csv('서울시_1인가구수_전처리완료.csv',encoding='utf-8')\n",
    "data = data.replace('X',np.nan)[['행정구역','1인가구']]\n",
    "data = data.loc[data['행정구역'] !='소계']\n",
    "data['1인가구'] =[x.replace(',','') for x in data['1인가구']]\n",
    "data.to_csv('서울시_1인가구수_최종.csv',encoding='cp949',index=False)"
   ]
  },
  {
   "cell_type": "markdown",
   "id": "65bb74a4",
   "metadata": {},
   "source": [
    "## 서울시 지하철역 수"
   ]
  },
  {
   "cell_type": "code",
   "execution_count": 28,
   "id": "a62ec8bf",
   "metadata": {},
   "outputs": [],
   "source": [
    "#사용안함\n",
    "subway = pd.read_csv('서울시_지하철역_동별_개수.csv',encoding='cp949')\n",
    "subway = subway[['ADM_NM','NUMPOINTS']]\n",
    "subway.rename(columns = {'ADM_NM' : '행정구역',\n",
    "                        'NUMPOINTS' : '지하철역수'},inplace=True)\n",
    "subway['행정구역'] = [x.replace('·','.') for x in subway['행정구역']]\n",
    "subway.to_csv('서울시_지하철역수_최종.csv',encoding='cp949',index=False)"
   ]
  },
  {
   "cell_type": "markdown",
   "id": "0434dcdf",
   "metadata": {},
   "source": [
    "## 서울시 버스정류장 수"
   ]
  },
  {
   "cell_type": "code",
   "execution_count": 29,
   "id": "903ed430",
   "metadata": {},
   "outputs": [],
   "source": [
    "#사용안함\n",
    "busstop = pd.read_csv('서울시_버스정류장_동별개수.csv',encoding='cp949')\n",
    "busstop = busstop[['ADM_NM','NUMPOINTS']]\n",
    "busstop.rename(columns = {'ADM_NM' : '행정구역',\n",
    "                        'NUMPOINTS' : '버스정류장수'},inplace=True)\n",
    "busstop['행정구역'] = [x.replace('·','.') for x in busstop['행정구역']]\n",
    "busstop.to_csv('서울시_버스정류장수_최종.csv',encoding='cp949',index=False)"
   ]
  },
  {
   "cell_type": "markdown",
   "id": "d3ac2697",
   "metadata": {},
   "source": [
    "## 서울시 초등학교 수"
   ]
  },
  {
   "cell_type": "code",
   "execution_count": 30,
   "id": "8ceee42c",
   "metadata": {},
   "outputs": [],
   "source": [
    "#사용안함\n",
    "e_school = pd.read_csv('서울시_초등학교_동별개수.csv',encoding='cp949')\n",
    "e_school = e_school[['ADM_NM','NUMPOINTS']]\n",
    "e_school.rename(columns = {'ADM_NM' : '행정구역',\n",
    "                        'NUMPOINTS' : '초등학교수'},inplace=True)\n",
    "e_school['행정구역'] = [x.replace('·','.') for x in e_school['행정구역']]\n",
    "e_school.to_csv('서울시_초등학교수_최종.csv',encoding='cp949',index=False)"
   ]
  },
  {
   "cell_type": "markdown",
   "id": "60e0fac2",
   "metadata": {},
   "source": [
    "## 서울시 소득분위"
   ]
  },
  {
   "cell_type": "code",
   "execution_count": 31,
   "id": "9c062dbd",
   "metadata": {},
   "outputs": [],
   "source": [
    "income = pd.read_csv('서울시_소득분위.csv',encoding='cp949')\n",
    "idx = [x.endswith('위') for x in income['소득분위']]\n",
    "income = income[idx].reset_index(drop=True)\n",
    "income['소득분위'] = [x[0] for x in income['소득분위']]\n",
    "income['소득분위'] = income['소득분위'].astype('int')\n",
    "income['가구수'] = [x.replace(',','') for x in income['가구수']]\n",
    "income.to_csv('서울시_소득분위_최종.csv',encoding='cp949',index=False)"
   ]
  },
  {
   "cell_type": "markdown",
   "id": "2c62837e",
   "metadata": {},
   "source": [
    "## 서울시 주택종류, 일반가구"
   ]
  },
  {
   "cell_type": "code",
   "execution_count": 32,
   "id": "38d8f28b",
   "metadata": {},
   "outputs": [],
   "source": [
    "house = pd.read_csv('서울시_주택종류및일반가구_0806.csv',encoding='utf-8')\n",
    "house.drop('자치구',axis=1,inplace=True)\n",
    "house.loc[house['행정구역']=='종로5·6가동','행정구역'] = '종로5.6가동'\n",
    "house.to_csv('서울시_주택종류및일반가구_최종.csv',encoding='cp949',index=False)"
   ]
  },
  {
   "cell_type": "markdown",
   "id": "9af44d48",
   "metadata": {},
   "source": [
    "## 서울시 데이터 merge"
   ]
  },
  {
   "cell_type": "code",
   "execution_count": 33,
   "id": "bea1a425",
   "metadata": {},
   "outputs": [],
   "source": [
    "trash = pd.read_csv('서울시_동별_폐기물_최종.csv',encoding='euc-kr')\n",
    "pop = pd.read_csv('서울시_동별인구수_최종.csv',encoding='utf-8')\n",
    "store = pd.read_csv('서울시_외식업_최종.csv',encoding='cp949')\n",
    "one = pd.read_csv('서울시_1인가구수_최종.csv',encoding='cp949')\n",
    "old_pop = pd.read_csv('서울시세대.txt',sep='\\t')\n",
    "pool = pd.read_csv('서울시기초수급.txt',sep='\\t')\n",
    "house = pd.read_csv('서울시_주택종류및일반가구_최종.csv',encoding='cp949')\n",
    "subway = pd.read_csv('서울시_지하철역수_최종.csv',encoding='cp949')\n",
    "busstop = pd.read_csv('서울시_버스정류장수_최종.csv',encoding='cp949')\n",
    "e_school = pd.read_csv('서울시_초등학교수_최종.csv',encoding='cp949')\n",
    "income = pd.read_csv('서울시_소득분위_최종.csv',encoding='cp949')"
   ]
  },
  {
   "cell_type": "code",
   "execution_count": 34,
   "id": "e28651d9",
   "metadata": {},
   "outputs": [],
   "source": [
    "# pop 열 이름 변경\n",
    "\n",
    "pop.columns = ['행정구역','인구수']"
   ]
  },
  {
   "cell_type": "code",
   "execution_count": 35,
   "id": "7d71844f",
   "metadata": {},
   "outputs": [],
   "source": [
    "# 기초수급 가구, 인원 \n",
    "pool = pool[['동','총가구','총인원']]\n",
    "\n",
    "# 동 추출\n",
    "dong_idx = [idx for idx,dong in enumerate(pool['동'].tolist()) if dong.endswith('동')]\n",
    "\n",
    "# 인덱스 초기화\n",
    "pool = pool.loc[dong_idx].reset_index(drop=True)\n",
    "\n",
    "# 천단위 (,) 제거\n",
    "pool['총가구'] = [x.replace(',','') for x in pool['총가구'].tolist()]\n",
    "pool['총인원'] = [x.replace(',','') for x in pool['총인원'].tolist()]\n",
    "\n",
    "# 총가구, 총인원,고령자 데이터타입 변경 : object -> int\n",
    "pool['총가구'] = pool['총가구'].astype('int')\n",
    "pool['총인원'] = pool['총인원'].astype('int')\n",
    "\n",
    "\n",
    "# 열 이름 변경\n",
    "pool.rename(columns = {'동' : '행정구역',\n",
    "                      '총가구' : '기초수급_가구',\n",
    "                      '총인원' : '기초수급_인원'},inplace=True)\n",
    "\n"
   ]
  },
  {
   "cell_type": "code",
   "execution_count": 36,
   "id": "9653f567",
   "metadata": {},
   "outputs": [],
   "source": [
    "# 세대당인구, 고령인구\n",
    "old_pop = old_pop[['동','세대당인구','65세이상고령자']]\n",
    "old_pop = old_pop.loc[(old_pop['동']!='소계') & (old_pop['동']!='합계')]  #소계, 합계 행 제거\n",
    "old_pop.reset_index(drop=True,inplace=True)  #인덱스 초기화\n",
    "old_pop.rename(columns= {'동' : '행정구역'},inplace= True) #열 이름 변경 : 동 -> 행정구역\n",
    "old_pop['65세이상고령자'] = [x.replace(',','') for x in old_pop['65세이상고령자']]\n",
    "old_pop['65세이상고령자'] = old_pop['65세이상고령자'].astype('int')"
   ]
  },
  {
   "cell_type": "code",
   "execution_count": 37,
   "id": "d00925da",
   "metadata": {},
   "outputs": [
    {
     "name": "stdout",
     "output_type": "stream",
     "text": [
      "[332, 358]\n",
      "신림동\n"
     ]
    }
   ],
   "source": [
    "# trash 데이터 '신사동' 데이터 값 변경\n",
    "print([idx for idx,dong in enumerate(trash['행정구역'].tolist()) if dong=='신사동'])\n",
    "print(trash['행정구역'][333])\n",
    "trash.loc[332,'행정구역']='관악구_신사동'\n",
    "trash.loc[358,'행정구역']='강남구_신사동'"
   ]
  },
  {
   "cell_type": "code",
   "execution_count": 38,
   "id": "ae6fab19",
   "metadata": {},
   "outputs": [
    {
     "name": "stdout",
     "output_type": "stream",
     "text": [
      "[332, 358]\n",
      "신림동\n"
     ]
    }
   ],
   "source": [
    "# pop 데이터 '신사동' 데이터 값 변경\n",
    "print([idx for idx,dong in enumerate(pop['행정구역'].tolist()) if dong=='신사동'])\n",
    "print(pop['행정구역'][333])\n",
    "pop.loc[332,'행정구역']='관악구_신사동'\n",
    "pop.loc[358,'행정구역']='강남구_신사동'"
   ]
  },
  {
   "cell_type": "code",
   "execution_count": 39,
   "id": "4dacedba",
   "metadata": {},
   "outputs": [
    {
     "name": "stdout",
     "output_type": "stream",
     "text": [
      "[329, 358]\n",
      "신림동\n"
     ]
    }
   ],
   "source": [
    "# old_pop 데이터 '신사동' 데이터 값 변경\n",
    "print([idx for idx,dong in enumerate(old_pop['행정구역'].tolist()) if dong=='신사동'])\n",
    "print(old_pop['행정구역'][330])\n",
    "old_pop.loc[329,'행정구역']='관악구_신사동'\n",
    "old_pop.loc[358,'행정구역']='강남구_신사동'\n"
   ]
  },
  {
   "cell_type": "code",
   "execution_count": 40,
   "id": "0ef06845",
   "metadata": {},
   "outputs": [
    {
     "name": "stdout",
     "output_type": "stream",
     "text": [
      "[329, 358]\n",
      "신림동\n"
     ]
    }
   ],
   "source": [
    "# pool 데이터 '신사동' 데이터 값 변경\n",
    "print([idx for idx,dong in enumerate(pool['행정구역'].tolist()) if dong=='신사동'])\n",
    "print(pool['행정구역'][330])\n",
    "pool.loc[329,'행정구역']='관악구_신사동'\n",
    "pool.loc[358,'행정구역']='강남구_신사동'"
   ]
  },
  {
   "cell_type": "code",
   "execution_count": 41,
   "id": "990df6f9",
   "metadata": {},
   "outputs": [
    {
     "name": "stdout",
     "output_type": "stream",
     "text": [
      "[331, 357]\n",
      "신림동\n"
     ]
    }
   ],
   "source": [
    "# store 데이터 '신사동' 데이터 값 변경\n",
    "print([idx for idx,dong in enumerate(store['행정구역'].tolist()) if dong=='신사동'])\n",
    "print(store['행정구역'][332])\n",
    "store.loc[331,'행정구역']='관악구_신사동'\n",
    "store.loc[357,'행정구역']='강남구_신사동'"
   ]
  },
  {
   "cell_type": "code",
   "execution_count": 42,
   "id": "e7faac6e",
   "metadata": {},
   "outputs": [
    {
     "name": "stdout",
     "output_type": "stream",
     "text": [
      "[329, 358]\n",
      "신림동\n"
     ]
    }
   ],
   "source": [
    "# one 데이터 '신사동' 데이터 값 변경\n",
    "print([idx for idx,dong in enumerate(one['행정구역'].tolist()) if dong=='신사동'])\n",
    "print(one['행정구역'][330])\n",
    "one.loc[329,'행정구역']='관악구_신사동'\n",
    "one.loc[358,'행정구역']='강남구_신사동'"
   ]
  },
  {
   "cell_type": "code",
   "execution_count": 43,
   "id": "06bae426",
   "metadata": {},
   "outputs": [
    {
     "name": "stdout",
     "output_type": "stream",
     "text": [
      "[328, 357]\n",
      "신림동\n"
     ]
    }
   ],
   "source": [
    "# subway 데이터 '신사동' 데이터 값 변경\n",
    "print([idx for idx,dong in enumerate(subway['행정구역'].tolist()) if dong=='신사동'])\n",
    "print(subway['행정구역'][329])\n",
    "subway.loc[328,'행정구역']='관악구_신사동'\n",
    "subway.loc[357,'행정구역']='강남구_신사동'"
   ]
  },
  {
   "cell_type": "code",
   "execution_count": 44,
   "id": "004c7a3e",
   "metadata": {},
   "outputs": [
    {
     "name": "stdout",
     "output_type": "stream",
     "text": [
      "[328, 357]\n",
      "신림동\n"
     ]
    }
   ],
   "source": [
    "# busstop 데이터 '신사동' 데이터 값 변경\n",
    "print([idx for idx,dong in enumerate(busstop['행정구역'].tolist()) if dong=='신사동'])\n",
    "print(subway['행정구역'][329])\n",
    "busstop.loc[328,'행정구역']='관악구_신사동'\n",
    "busstop.loc[357,'행정구역']='강남구_신사동'"
   ]
  },
  {
   "cell_type": "code",
   "execution_count": 45,
   "id": "6afbee31",
   "metadata": {},
   "outputs": [
    {
     "name": "stdout",
     "output_type": "stream",
     "text": [
      "[328, 357]\n",
      "신림동\n"
     ]
    }
   ],
   "source": [
    "# e_school 데이터 '신사동' 데이터 값 변경\n",
    "print([idx for idx,dong in enumerate(e_school['행정구역'].tolist()) if dong=='신사동'])\n",
    "print(e_school['행정구역'][329])\n",
    "e_school.loc[328,'행정구역']='관악구_신사동'\n",
    "e_school.loc[357,'행정구역']='강남구_신사동'"
   ]
  },
  {
   "cell_type": "code",
   "execution_count": 46,
   "id": "82f43a89",
   "metadata": {},
   "outputs": [
    {
     "name": "stdout",
     "output_type": "stream",
     "text": [
      "[331, 357]\n",
      "신림동\n"
     ]
    }
   ],
   "source": [
    "# income 데이터 '신사동' 데이터 값 변경\n",
    "print([idx for idx,dong in enumerate(income['행정구역'].tolist()) if dong=='신사동'])\n",
    "print(income['행정구역'][332])\n",
    "income.loc[331,'행정구역']='관악구_신사동'\n",
    "income.loc[357,'행정구역']='강남구_신사동'"
   ]
  },
  {
   "cell_type": "code",
   "execution_count": 47,
   "id": "f4241011",
   "metadata": {},
   "outputs": [
    {
     "name": "stdout",
     "output_type": "stream",
     "text": [
      "[328, 357]\n",
      "신림동\n"
     ]
    }
   ],
   "source": [
    "# house 데이터 '신사동' 데이터 값 변경\n",
    "print([idx for idx,dong in enumerate(house['행정구역'].tolist()) if dong=='신사동'])\n",
    "print(house['행정구역'][329])\n",
    "house.loc[328,'행정구역']='관악구_신사동'\n",
    "house.loc[357,'행정구역']='강남구_신사동'"
   ]
  },
  {
   "cell_type": "code",
   "execution_count": 48,
   "id": "5f6a7ef0",
   "metadata": {},
   "outputs": [],
   "source": [
    "# old_pop 데이터 '종로5·6가동' 데이터 값 변경 -> '종로5.6가동'\n",
    "old_pop.loc[old_pop['행정구역']=='종로5·6가동','행정구역']='종로5.6가동'"
   ]
  },
  {
   "cell_type": "code",
   "execution_count": 49,
   "id": "76093cc8",
   "metadata": {},
   "outputs": [],
   "source": [
    "# pool 데이터 '종로5·6가동' 데이터 값 변경 -> '종로5.6가동'\n",
    "pool.loc[pool['행정구역']=='종로5·6가동','행정구역']='종로5.6가동'"
   ]
  },
  {
   "cell_type": "code",
   "execution_count": 50,
   "id": "511f21f3",
   "metadata": {},
   "outputs": [],
   "source": [
    "# one 데이터 '종로5·6가동' 데이터 값 변경 -> '종로5.6가동'\n",
    "one.loc[one['행정구역']=='종로5·6가동','행정구역']='종로5.6가동'"
   ]
  },
  {
   "cell_type": "code",
   "execution_count": 51,
   "id": "dc74ed1b",
   "metadata": {},
   "outputs": [],
   "source": [
    "# 동 이름 변경 -> ex) 제1동 -> 1동\n",
    "tq = ['제{}동'.format(i) for i in range(1,10)]\n",
    "\n",
    "\n",
    "for idx,dong in enumerate(trash['행정구역'].tolist()):\n",
    "    if dong[-3:] in tq:\n",
    "        dong = dong[:-3] + dong[-2:]\n",
    "        trash.loc[idx,'행정구역'] = dong\n",
    "        \n",
    "        \n",
    "for idx,dong in enumerate(pop['행정구역'].tolist()):\n",
    "    if dong[-3:] in tq:\n",
    "        dong = dong[:-3] + dong[-2:]\n",
    "        pop.loc[idx,'행정구역'] = dong"
   ]
  },
  {
   "cell_type": "code",
   "execution_count": 52,
   "id": "eb58f515",
   "metadata": {},
   "outputs": [],
   "source": [
    "# 흥제1동,흥제2동,흥제3동 복구\n",
    "\n",
    "for i in range(1,4):\n",
    "    trash.loc[trash['행정구역']=='흥{}동'.format(i),'행정구역'] = '흥제{}동'.format(i)\n",
    "    pop.loc[pop['행정구역']=='흥{}동'.format(i),'행정구역'] = '흥제{}동'.format(i)"
   ]
  },
  {
   "cell_type": "code",
   "execution_count": 53,
   "id": "7143e63f",
   "metadata": {},
   "outputs": [],
   "source": [
    "# trash,pop 면목제3.8동 -> 면목3.8동\n",
    "trash.loc[trash['행정구역']=='면목제3.8동','행정구역'] = '면목3.8동'\n",
    "\n",
    "pop.loc[pop['행정구역']=='면목제3.8동','행정구역'] = '면목3.8동'\n"
   ]
  },
  {
   "cell_type": "code",
   "execution_count": 54,
   "id": "0b7b5881",
   "metadata": {},
   "outputs": [],
   "source": [
    "seoul_df = pd.merge(trash,pop,on='행정구역',how='left')\n",
    "seoul_df = pd.merge(seoul_df,store,on='행정구역',how='left')\n",
    "seoul_df = pd.merge(seoul_df,old_pop,on='행정구역',how='left')\n",
    "seoul_df = pd.merge(seoul_df,pool,on='행정구역',how='left')\n",
    "seoul_df = pd.merge(seoul_df,one,on='행정구역',how='left')\n",
    "seoul_df = pd.merge(seoul_df,subway,on='행정구역',how='left')\n",
    "seoul_df = pd.merge(seoul_df,busstop,on='행정구역',how='left')\n",
    "seoul_df = pd.merge(seoul_df,e_school,on='행정구역',how='left')\n",
    "seoul_df = pd.merge(seoul_df,income,on='행정구역',how='left')\n",
    "seoul_df = pd.merge(seoul_df,house,on='행정구역',how='left')\n"
   ]
  },
  {
   "cell_type": "code",
   "execution_count": 55,
   "id": "d68a4bed",
   "metadata": {},
   "outputs": [],
   "source": [
    "# 둔촌1동 기초수급 데이터 결측치 검색 후 처리\n",
    "seoul_df.loc[seoul_df['행정구역']=='둔촌1동','기초수급_가구'] = 1\n",
    "seoul_df.loc[seoul_df['행정구역']=='둔촌1동','기초수급_인원'] = 1"
   ]
  },
  {
   "cell_type": "code",
   "execution_count": 56,
   "id": "1717fb8f",
   "metadata": {},
   "outputs": [],
   "source": [
    "#항동 제거\n",
    "idx = seoul_df['행정구역'].tolist().index('항동')\n",
    "seoul_df.drop(idx,axis=0,inplace=True)\n"
   ]
  },
  {
   "cell_type": "code",
   "execution_count": 57,
   "id": "f8f3d419",
   "metadata": {},
   "outputs": [],
   "source": [
    "# '.' -> '·' 변경 (지도파일 형식 맞춤)\n",
    "#ex) 종로5.6가 -> 종로5·6가\n",
    "seoul_df['행정구역'] = [dong.replace('.','·') for dong in seoul_df['행정구역']]"
   ]
  },
  {
   "cell_type": "code",
   "execution_count": 58,
   "id": "06878911",
   "metadata": {},
   "outputs": [],
   "source": [
    "seoul_df.to_csv('서울시_최종.csv',encoding='euc-kr',index=False)"
   ]
  },
  {
   "cell_type": "code",
   "execution_count": null,
   "id": "868d6b7f",
   "metadata": {},
   "outputs": [],
   "source": []
  },
  {
   "cell_type": "code",
   "execution_count": null,
   "id": "af20de26",
   "metadata": {},
   "outputs": [],
   "source": []
  }
 ],
 "metadata": {
  "kernelspec": {
   "display_name": "Python 3",
   "language": "python",
   "name": "python3"
  },
  "language_info": {
   "codemirror_mode": {
    "name": "ipython",
    "version": 3
   },
   "file_extension": ".py",
   "mimetype": "text/x-python",
   "name": "python",
   "nbconvert_exporter": "python",
   "pygments_lexer": "ipython3",
   "version": "3.8.8"
  }
 },
 "nbformat": 4,
 "nbformat_minor": 5
}
