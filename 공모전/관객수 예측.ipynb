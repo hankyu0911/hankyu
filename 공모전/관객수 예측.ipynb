{
 "cells": [
  {
   "cell_type": "code",
   "execution_count": 62,
   "metadata": {},
   "outputs": [],
   "source": [
    "import pandas as pd\n",
    "pd.options.display.float_format = '{:.2f}'.format\n",
    "import numpy as np\n",
    "import matplotlib.pyplot as plt\n",
    "import seaborn as sns\n",
    "import matplotlib as mpl\n",
    "mpl.rc('font', family='Malgun Gothic')"
   ]
  },
  {
   "cell_type": "code",
   "execution_count": 63,
   "metadata": {},
   "outputs": [],
   "source": [
    "train = pd.read_csv('movies_train.csv')\n",
    "test = pd.read_csv('movies_test.csv')"
   ]
  },
  {
   "cell_type": "code",
   "execution_count": 66,
   "metadata": {},
   "outputs": [
    {
     "data": {
      "text/html": [
       "<div>\n",
       "<style scoped>\n",
       "    .dataframe tbody tr th:only-of-type {\n",
       "        vertical-align: middle;\n",
       "    }\n",
       "\n",
       "    .dataframe tbody tr th {\n",
       "        vertical-align: top;\n",
       "    }\n",
       "\n",
       "    .dataframe thead th {\n",
       "        text-align: right;\n",
       "    }\n",
       "</style>\n",
       "<table border=\"1\" class=\"dataframe\">\n",
       "  <thead>\n",
       "    <tr style=\"text-align: right;\">\n",
       "      <th></th>\n",
       "      <th>title</th>\n",
       "      <th>distributor</th>\n",
       "      <th>genre</th>\n",
       "      <th>release_time</th>\n",
       "      <th>time</th>\n",
       "      <th>screening_rat</th>\n",
       "      <th>director</th>\n",
       "      <th>dir_prev_bfnum</th>\n",
       "      <th>dir_prev_num</th>\n",
       "      <th>num_staff</th>\n",
       "      <th>num_actor</th>\n",
       "      <th>box_off_num</th>\n",
       "    </tr>\n",
       "  </thead>\n",
       "  <tbody>\n",
       "    <tr>\n",
       "      <th>0</th>\n",
       "      <td>개들의 전쟁</td>\n",
       "      <td>롯데엔터테인먼트</td>\n",
       "      <td>액션</td>\n",
       "      <td>2012-11-22</td>\n",
       "      <td>96</td>\n",
       "      <td>청소년 관람불가</td>\n",
       "      <td>조병옥</td>\n",
       "      <td>NaN</td>\n",
       "      <td>0</td>\n",
       "      <td>91</td>\n",
       "      <td>2</td>\n",
       "      <td>23398</td>\n",
       "    </tr>\n",
       "    <tr>\n",
       "      <th>1</th>\n",
       "      <td>내부자들</td>\n",
       "      <td>(주)쇼박스</td>\n",
       "      <td>느와르</td>\n",
       "      <td>2015-11-19</td>\n",
       "      <td>130</td>\n",
       "      <td>청소년 관람불가</td>\n",
       "      <td>우민호</td>\n",
       "      <td>1161602.50</td>\n",
       "      <td>2</td>\n",
       "      <td>387</td>\n",
       "      <td>3</td>\n",
       "      <td>7072501</td>\n",
       "    </tr>\n",
       "    <tr>\n",
       "      <th>2</th>\n",
       "      <td>은밀하게 위대하게</td>\n",
       "      <td>(주)쇼박스</td>\n",
       "      <td>액션</td>\n",
       "      <td>2013-06-05</td>\n",
       "      <td>123</td>\n",
       "      <td>15세 관람가</td>\n",
       "      <td>장철수</td>\n",
       "      <td>220775.25</td>\n",
       "      <td>4</td>\n",
       "      <td>343</td>\n",
       "      <td>4</td>\n",
       "      <td>6959083</td>\n",
       "    </tr>\n",
       "    <tr>\n",
       "      <th>3</th>\n",
       "      <td>나는 공무원이다</td>\n",
       "      <td>(주)NEW</td>\n",
       "      <td>코미디</td>\n",
       "      <td>2012-07-12</td>\n",
       "      <td>101</td>\n",
       "      <td>전체 관람가</td>\n",
       "      <td>구자홍</td>\n",
       "      <td>23894.00</td>\n",
       "      <td>2</td>\n",
       "      <td>20</td>\n",
       "      <td>6</td>\n",
       "      <td>217866</td>\n",
       "    </tr>\n",
       "    <tr>\n",
       "      <th>4</th>\n",
       "      <td>불량남녀</td>\n",
       "      <td>쇼박스(주)미디어플렉스</td>\n",
       "      <td>코미디</td>\n",
       "      <td>2010-11-04</td>\n",
       "      <td>108</td>\n",
       "      <td>15세 관람가</td>\n",
       "      <td>신근호</td>\n",
       "      <td>1.00</td>\n",
       "      <td>1</td>\n",
       "      <td>251</td>\n",
       "      <td>2</td>\n",
       "      <td>483387</td>\n",
       "    </tr>\n",
       "  </tbody>\n",
       "</table>\n",
       "</div>"
      ],
      "text/plain": [
       "       title   distributor genre release_time  time screening_rat director  \\\n",
       "0     개들의 전쟁      롯데엔터테인먼트    액션   2012-11-22    96      청소년 관람불가      조병옥   \n",
       "1       내부자들        (주)쇼박스   느와르   2015-11-19   130      청소년 관람불가      우민호   \n",
       "2  은밀하게 위대하게        (주)쇼박스    액션   2013-06-05   123       15세 관람가      장철수   \n",
       "3   나는 공무원이다        (주)NEW   코미디   2012-07-12   101        전체 관람가      구자홍   \n",
       "4       불량남녀  쇼박스(주)미디어플렉스   코미디   2010-11-04   108       15세 관람가      신근호   \n",
       "\n",
       "   dir_prev_bfnum  dir_prev_num  num_staff  num_actor  box_off_num  \n",
       "0             NaN             0         91          2        23398  \n",
       "1      1161602.50             2        387          3      7072501  \n",
       "2       220775.25             4        343          4      6959083  \n",
       "3        23894.00             2         20          6       217866  \n",
       "4            1.00             1        251          2       483387  "
      ]
     },
     "execution_count": 66,
     "metadata": {},
     "output_type": "execute_result"
    }
   ],
   "source": [
    "train.head()"
   ]
  },
  {
   "cell_type": "code",
   "execution_count": 67,
   "metadata": {},
   "outputs": [
    {
     "data": {
      "text/html": [
       "<div>\n",
       "<style scoped>\n",
       "    .dataframe tbody tr th:only-of-type {\n",
       "        vertical-align: middle;\n",
       "    }\n",
       "\n",
       "    .dataframe tbody tr th {\n",
       "        vertical-align: top;\n",
       "    }\n",
       "\n",
       "    .dataframe thead th {\n",
       "        text-align: right;\n",
       "    }\n",
       "</style>\n",
       "<table border=\"1\" class=\"dataframe\">\n",
       "  <thead>\n",
       "    <tr style=\"text-align: right;\">\n",
       "      <th></th>\n",
       "      <th>title</th>\n",
       "      <th>distributor</th>\n",
       "      <th>genre</th>\n",
       "      <th>release_time</th>\n",
       "      <th>time</th>\n",
       "      <th>screening_rat</th>\n",
       "      <th>director</th>\n",
       "      <th>dir_prev_bfnum</th>\n",
       "      <th>dir_prev_num</th>\n",
       "      <th>num_staff</th>\n",
       "      <th>num_actor</th>\n",
       "    </tr>\n",
       "  </thead>\n",
       "  <tbody>\n",
       "    <tr>\n",
       "      <th>0</th>\n",
       "      <td>용서는 없다</td>\n",
       "      <td>시네마서비스</td>\n",
       "      <td>느와르</td>\n",
       "      <td>2010-01-07</td>\n",
       "      <td>125</td>\n",
       "      <td>청소년 관람불가</td>\n",
       "      <td>김형준</td>\n",
       "      <td>300529.00</td>\n",
       "      <td>2</td>\n",
       "      <td>304</td>\n",
       "      <td>3</td>\n",
       "    </tr>\n",
       "    <tr>\n",
       "      <th>1</th>\n",
       "      <td>아빠가 여자를 좋아해</td>\n",
       "      <td>(주)쇼박스</td>\n",
       "      <td>멜로/로맨스</td>\n",
       "      <td>2010-01-14</td>\n",
       "      <td>113</td>\n",
       "      <td>12세 관람가</td>\n",
       "      <td>이광재</td>\n",
       "      <td>342700.25</td>\n",
       "      <td>4</td>\n",
       "      <td>275</td>\n",
       "      <td>3</td>\n",
       "    </tr>\n",
       "    <tr>\n",
       "      <th>2</th>\n",
       "      <td>하모니</td>\n",
       "      <td>CJ 엔터테인먼트</td>\n",
       "      <td>드라마</td>\n",
       "      <td>2010-01-28</td>\n",
       "      <td>115</td>\n",
       "      <td>12세 관람가</td>\n",
       "      <td>강대규</td>\n",
       "      <td>4206610.67</td>\n",
       "      <td>3</td>\n",
       "      <td>419</td>\n",
       "      <td>7</td>\n",
       "    </tr>\n",
       "    <tr>\n",
       "      <th>3</th>\n",
       "      <td>의형제</td>\n",
       "      <td>(주)쇼박스</td>\n",
       "      <td>액션</td>\n",
       "      <td>2010-02-04</td>\n",
       "      <td>116</td>\n",
       "      <td>15세 관람가</td>\n",
       "      <td>장훈</td>\n",
       "      <td>691342.00</td>\n",
       "      <td>2</td>\n",
       "      <td>408</td>\n",
       "      <td>2</td>\n",
       "    </tr>\n",
       "    <tr>\n",
       "      <th>4</th>\n",
       "      <td>평행 이론</td>\n",
       "      <td>CJ 엔터테인먼트</td>\n",
       "      <td>공포</td>\n",
       "      <td>2010-02-18</td>\n",
       "      <td>110</td>\n",
       "      <td>15세 관람가</td>\n",
       "      <td>권호영</td>\n",
       "      <td>31738.00</td>\n",
       "      <td>1</td>\n",
       "      <td>380</td>\n",
       "      <td>1</td>\n",
       "    </tr>\n",
       "  </tbody>\n",
       "</table>\n",
       "</div>"
      ],
      "text/plain": [
       "         title distributor   genre release_time  time screening_rat director  \\\n",
       "0       용서는 없다      시네마서비스     느와르   2010-01-07   125      청소년 관람불가      김형준   \n",
       "1  아빠가 여자를 좋아해      (주)쇼박스  멜로/로맨스   2010-01-14   113       12세 관람가      이광재   \n",
       "2          하모니   CJ 엔터테인먼트     드라마   2010-01-28   115       12세 관람가      강대규   \n",
       "3          의형제      (주)쇼박스      액션   2010-02-04   116       15세 관람가       장훈   \n",
       "4        평행 이론   CJ 엔터테인먼트      공포   2010-02-18   110       15세 관람가      권호영   \n",
       "\n",
       "   dir_prev_bfnum  dir_prev_num  num_staff  num_actor  \n",
       "0       300529.00             2        304          3  \n",
       "1       342700.25             4        275          3  \n",
       "2      4206610.67             3        419          7  \n",
       "3       691342.00             2        408          2  \n",
       "4        31738.00             1        380          1  "
      ]
     },
     "execution_count": 67,
     "metadata": {},
     "output_type": "execute_result"
    }
   ],
   "source": [
    "test.head()"
   ]
  },
  {
   "cell_type": "code",
   "execution_count": 68,
   "metadata": {},
   "outputs": [
    {
     "data": {
      "text/html": [
       "<div>\n",
       "<style scoped>\n",
       "    .dataframe tbody tr th:only-of-type {\n",
       "        vertical-align: middle;\n",
       "    }\n",
       "\n",
       "    .dataframe tbody tr th {\n",
       "        vertical-align: top;\n",
       "    }\n",
       "\n",
       "    .dataframe thead th {\n",
       "        text-align: right;\n",
       "    }\n",
       "</style>\n",
       "<table border=\"1\" class=\"dataframe\">\n",
       "  <thead>\n",
       "    <tr style=\"text-align: right;\">\n",
       "      <th></th>\n",
       "      <th>time</th>\n",
       "      <th>dir_prev_bfnum</th>\n",
       "      <th>dir_prev_num</th>\n",
       "      <th>num_staff</th>\n",
       "      <th>num_actor</th>\n",
       "      <th>box_off_num</th>\n",
       "    </tr>\n",
       "  </thead>\n",
       "  <tbody>\n",
       "    <tr>\n",
       "      <th>count</th>\n",
       "      <td>600.00</td>\n",
       "      <td>270.00</td>\n",
       "      <td>600.00</td>\n",
       "      <td>600.00</td>\n",
       "      <td>600.00</td>\n",
       "      <td>600.00</td>\n",
       "    </tr>\n",
       "    <tr>\n",
       "      <th>mean</th>\n",
       "      <td>100.86</td>\n",
       "      <td>1050442.89</td>\n",
       "      <td>0.88</td>\n",
       "      <td>151.12</td>\n",
       "      <td>3.71</td>\n",
       "      <td>708181.75</td>\n",
       "    </tr>\n",
       "    <tr>\n",
       "      <th>std</th>\n",
       "      <td>18.10</td>\n",
       "      <td>1791408.30</td>\n",
       "      <td>1.18</td>\n",
       "      <td>165.65</td>\n",
       "      <td>2.45</td>\n",
       "      <td>1828005.85</td>\n",
       "    </tr>\n",
       "    <tr>\n",
       "      <th>min</th>\n",
       "      <td>45.00</td>\n",
       "      <td>1.00</td>\n",
       "      <td>0.00</td>\n",
       "      <td>0.00</td>\n",
       "      <td>0.00</td>\n",
       "      <td>1.00</td>\n",
       "    </tr>\n",
       "    <tr>\n",
       "      <th>25%</th>\n",
       "      <td>89.00</td>\n",
       "      <td>20380.00</td>\n",
       "      <td>0.00</td>\n",
       "      <td>17.00</td>\n",
       "      <td>2.00</td>\n",
       "      <td>1297.25</td>\n",
       "    </tr>\n",
       "    <tr>\n",
       "      <th>50%</th>\n",
       "      <td>100.00</td>\n",
       "      <td>478423.62</td>\n",
       "      <td>0.00</td>\n",
       "      <td>82.50</td>\n",
       "      <td>3.00</td>\n",
       "      <td>12591.00</td>\n",
       "    </tr>\n",
       "    <tr>\n",
       "      <th>75%</th>\n",
       "      <td>114.00</td>\n",
       "      <td>1286568.62</td>\n",
       "      <td>2.00</td>\n",
       "      <td>264.00</td>\n",
       "      <td>4.00</td>\n",
       "      <td>479886.75</td>\n",
       "    </tr>\n",
       "    <tr>\n",
       "      <th>max</th>\n",
       "      <td>180.00</td>\n",
       "      <td>17615314.00</td>\n",
       "      <td>5.00</td>\n",
       "      <td>869.00</td>\n",
       "      <td>25.00</td>\n",
       "      <td>14262766.00</td>\n",
       "    </tr>\n",
       "  </tbody>\n",
       "</table>\n",
       "</div>"
      ],
      "text/plain": [
       "        time  dir_prev_bfnum  dir_prev_num  num_staff  num_actor  box_off_num\n",
       "count 600.00          270.00        600.00     600.00     600.00       600.00\n",
       "mean  100.86      1050442.89          0.88     151.12       3.71    708181.75\n",
       "std    18.10      1791408.30          1.18     165.65       2.45   1828005.85\n",
       "min    45.00            1.00          0.00       0.00       0.00         1.00\n",
       "25%    89.00        20380.00          0.00      17.00       2.00      1297.25\n",
       "50%   100.00       478423.62          0.00      82.50       3.00     12591.00\n",
       "75%   114.00      1286568.62          2.00     264.00       4.00    479886.75\n",
       "max   180.00     17615314.00          5.00     869.00      25.00  14262766.00"
      ]
     },
     "execution_count": 68,
     "metadata": {},
     "output_type": "execute_result"
    }
   ],
   "source": [
    "train.describe()"
   ]
  },
  {
   "cell_type": "code",
   "execution_count": 69,
   "metadata": {},
   "outputs": [
    {
     "data": {
      "text/plain": [
       "['인디플러그',\n",
       " 'NEW',\n",
       " 'KT&G 상상마당',\n",
       " '인벤트 디',\n",
       " '스폰지',\n",
       " '시네마서비스',\n",
       " 'BoXoo 엔터테인먼트',\n",
       " '무비꼴라쥬',\n",
       " '(주)팝엔터테인먼트',\n",
       " '필라멘트 픽쳐스',\n",
       " '시네마 달',\n",
       " '리틀빅픽처스',\n",
       " 'CGV아트하우스',\n",
       " '홀리가든',\n",
       " '씨너스엔터테인먼트(주)',\n",
       " '마노엔터테인먼트',\n",
       " '(주)엣나인필름',\n",
       " '메가박스(주)플러스엠',\n",
       " '나이너스엔터테인먼트(주)',\n",
       " '싸이더스',\n",
       " '(주) 영화제작전원사',\n",
       " '김기덕 필름',\n",
       " '이모션 픽처스',\n",
       " 'CJ E&M 영화부문',\n",
       " '타임스토리그룹',\n",
       " '씨네그루(주)키다리이엔티',\n",
       " '이십세기폭스코리아(주)',\n",
       " '(주) 브릿지웍스',\n",
       " '마운틴 픽처스',\n",
       " '(주)마인스 엔터테인먼트',\n",
       " '드림팩트 엔터테인먼트',\n",
       " '트리필름',\n",
       " 'KT',\n",
       " 'CGV 아트하우스',\n",
       " '파이오니아21',\n",
       " '에스피엠',\n",
       " '리틀빅픽쳐스',\n",
       " '(주) 액티버스엔터테인먼트',\n",
       " 'CJ E&M Pictures',\n",
       " '서울독립영화제',\n",
       " '백두대간',\n",
       " '(주)리틀빅픽처스',\n",
       " '조이앤시네마',\n",
       " '웃기씨네',\n",
       " '쇼박스(주)미디어플렉스',\n",
       " '(주)마인스엔터테인먼트',\n",
       " '드림로드',\n",
       " '화앤담이엔티',\n",
       " '노바엔터테인먼트',\n",
       " '(주)시네마달',\n",
       " '(주)스톰픽쳐스코리아',\n",
       " '(주)프레인글로벌',\n",
       " 'SBS콘텐츠허브',\n",
       " '(주)예지림 엔터테인먼트',\n",
       " '인피니티엔터테인먼트',\n",
       " '콘텐츠판다',\n",
       " '씨네굿필름',\n",
       " '(주)고앤고 필름',\n",
       " '오퍼스픽쳐스',\n",
       " '팜코리아미디어',\n",
       " '(주)유비콘텐츠',\n",
       " '두 엔터테인먼트',\n",
       " '조이앤컨텐츠그룹',\n",
       " '나우콘텐츠',\n",
       " '보람엔터테인먼트',\n",
       " '한국YWCA연합회',\n",
       " '(주)온비즈넷',\n",
       " '싸이더스 FNH',\n",
       " 'OAL(올)',\n",
       " '(주)아이필름코퍼레이션',\n",
       " '(주)피터팬픽쳐스',\n",
       " '제나두 엔터테인먼트',\n",
       " '와이드릴리즈(주)',\n",
       " '판다미디어',\n",
       " 'tvN',\n",
       " '판씨네마(주)',\n",
       " '크리에이티브컴즈(주)',\n",
       " '(주)이스트스카이필름',\n",
       " '(주)더픽쳐스',\n",
       " '와이드 릴리즈(주)',\n",
       " '에이블엔터테인먼트',\n",
       " '디마엔터테인먼트',\n",
       " '미라클 필름',\n",
       " '스크린조이',\n",
       " '스튜디오 느림보',\n",
       " '키노엔터테인먼트',\n",
       " '(주)에이원 엔터테인먼트',\n",
       " 'SK텔레콤(주)',\n",
       " '퍼스트런',\n",
       " '(주)팝 파트너스',\n",
       " '(주)레인보우 팩토리',\n",
       " '쟈비스미디어',\n",
       " 'THE 픽쳐스',\n",
       " '찬란',\n",
       " '(주)랠리버튼',\n",
       " '더픽쳐스/(주)마운틴픽쳐스',\n",
       " '전주국제영화제',\n",
       " '(주)패스파인더씨앤씨',\n",
       " '마법사필름',\n",
       " '스토리셋',\n",
       " '(주)JK필름',\n",
       " '(주)미디어데이',\n",
       " '위드시네마',\n",
       " '새인컴퍼니',\n",
       " '싸이더스FNH',\n",
       " '건시네마',\n",
       " '머스트 씨 무비',\n",
       " 'CGV 무비꼴라쥬',\n",
       " 'KBS미디어(주)',\n",
       " '(주)스마일이엔티',\n",
       " '스튜디오 블루',\n",
       " 'CJ CGV',\n",
       " '스폰지이엔티',\n",
       " '스튜디오후크',\n",
       " '더 피플',\n",
       " 'SK플래닛',\n",
       " '에스와이코마드',\n",
       " '프리비젼 엔터테인먼트',\n",
       " '전망좋은영화사',\n",
       " '케이엠스타',\n",
       " '(주)콘텐츠 윙',\n",
       " '(주)로드하우스',\n",
       " '동국대학교 충무로영상제작센터',\n",
       " '상구네 필름',\n",
       " '영구아트무비',\n",
       " 'ysfilm',\n",
       " '사람과 사람들',\n",
       " '하준사',\n",
       " '인터콘미디어',\n",
       " '필름라인',\n",
       " '(주)대명문화공장',\n",
       " '위더스필름',\n",
       " 'M2픽처스',\n",
       " '영희야놀자',\n",
       " '에이원 엔터테인먼트',\n",
       " '(주)드림팩트엔터테인먼트',\n",
       " '영화사 廊',\n",
       " '(주)패뷸러스',\n",
       " '어썸 피플',\n",
       " '(주)유비네트워크',\n",
       " '(주)씨엠닉스',\n",
       " '(주)노버스엔터테인먼트',\n",
       " '이상우필름',\n",
       " '아방가르드 필름',\n",
       " '(주)휘엔터테인먼트',\n",
       " '고구마공작소',\n",
       " '주머니필름',\n",
       " '이달투',\n",
       " '(주)두타연',\n",
       " '영화사 조아',\n",
       " '롤러코스터 프로덕션',\n",
       " '(주)아우라픽처스',\n",
       " '프로젝트 엠피',\n",
       " '유니버설픽쳐스인터내셔널코리아',\n",
       " '디 씨드']"
      ]
     },
     "execution_count": 69,
     "metadata": {},
     "output_type": "execute_result"
    }
   ],
   "source": [
    "train['distributor'].value_counts()[train['distributor'].value_counts()<10].index.tolist()"
   ]
  },
  {
   "cell_type": "code",
   "execution_count": 70,
   "metadata": {},
   "outputs": [],
   "source": [
    "etc_list = train['distributor'].value_counts()[train['distributor'].value_counts() <10].index.tolist()\n",
    "train['distributor'].replace({x : '기타'for x in etc_list},inplace=True)\n",
    "\n",
    "etc_list = test['distributor'].value_counts()[test['distributor'].value_counts() <10].index.tolist()\n",
    "test['distributor'].replace({x : '기타'for x in etc_list},inplace=True)"
   ]
  },
  {
   "cell_type": "code",
   "execution_count": 71,
   "metadata": {},
   "outputs": [
    {
     "data": {
      "text/plain": [
       "기타           294\n",
       "CJ 엔터테인먼트     54\n",
       "롯데엔터테인먼트      52\n",
       "(주)NEW        30\n",
       "(주)마운틴픽쳐스     29\n",
       "인디스토리         26\n",
       "(주)쇼박스        26\n",
       "골든타이드픽처스      15\n",
       "(주) 케이알씨지     14\n",
       "시너지           10\n",
       "시네마달          10\n",
       "(주)키노아이       10\n",
       "영화사 진진        10\n",
       "어뮤즈           10\n",
       "(주) 영화사조제     10\n",
       "Name: distributor, dtype: int64"
      ]
     },
     "execution_count": 71,
     "metadata": {},
     "output_type": "execute_result"
    }
   ],
   "source": [
    "train['distributor'].value_counts()"
   ]
  },
  {
   "cell_type": "code",
   "execution_count": 72,
   "metadata": {},
   "outputs": [
    {
     "data": {
      "text/plain": [
       "드라마       221\n",
       "다큐멘터리      93\n",
       "멜로/로맨스     78\n",
       "코미디        53\n",
       "공포         42\n",
       "액션         28\n",
       "느와르        27\n",
       "애니메이션      21\n",
       "미스터리       17\n",
       "SF         13\n",
       "뮤지컬         5\n",
       "서스펜스        2\n",
       "Name: genre, dtype: int64"
      ]
     },
     "execution_count": 72,
     "metadata": {},
     "output_type": "execute_result"
    }
   ],
   "source": [
    "train['genre'].value_counts()"
   ]
  },
  {
   "cell_type": "code",
   "execution_count": 73,
   "metadata": {},
   "outputs": [
    {
     "data": {
      "text/plain": [
       "기타     237\n",
       "조성규      3\n",
       "이정호      3\n",
       "Name: director, dtype: int64"
      ]
     },
     "execution_count": 73,
     "metadata": {},
     "output_type": "execute_result"
    }
   ],
   "source": [
    "etc_list = train['director'].value_counts()[train['director'].value_counts() <3].index.tolist()\n",
    "train['director'].replace({x : '기타'for x in etc_list},inplace=True)\n",
    "train['director'].value_counts()\n",
    "\n",
    "etc_list = test['director'].value_counts()[test['director'].value_counts() <3].index.tolist()\n",
    "test['director'].replace({x : '기타'for x in etc_list},inplace=True)\n",
    "test['director'].value_counts()"
   ]
  },
  {
   "cell_type": "code",
   "execution_count": 74,
   "metadata": {},
   "outputs": [],
   "source": [
    "train['release_time'] = pd.to_datetime(train['release_time'])\n",
    "train['year'] = train['release_time'].dt.year\n",
    "train['month'] = train['release_time'].dt.month\n",
    "train['weekday'] = train['release_time'].dt.weekday\n",
    "train['day'] = train['release_time'].dt.day\n",
    "\n",
    "\n",
    "\n",
    "test['release_time'] = pd.to_datetime(test['release_time'])\n",
    "test['year'] = test['release_time'].dt.year\n",
    "test['month'] = test['release_time'].dt.month\n",
    "test['weekday'] = test['release_time'].dt.weekday\n",
    "test['day'] = test['release_time'].dt.day\n"
   ]
  },
  {
   "cell_type": "code",
   "execution_count": 75,
   "metadata": {},
   "outputs": [
    {
     "data": {
      "text/plain": [
       "기타        280\n",
       "홍상수         6\n",
       "노진수         4\n",
       "전규환         4\n",
       "장률          4\n",
       "오멸          3\n",
       "박철수         3\n",
       "김조광수        3\n",
       "신연식         3\n",
       "정성복         3\n",
       "김기덕         3\n",
       "조성규         3\n",
       "조조 히데오      3\n",
       "김봉은         2\n",
       "윤여창         2\n",
       "장진          2\n",
       "우민호         1\n",
       "권칠인         1\n",
       "Name: director, dtype: int64"
      ]
     },
     "execution_count": 75,
     "metadata": {},
     "output_type": "execute_result"
    }
   ],
   "source": [
    "train[train['dir_prev_bfnum'].isnull()]['director'].value_counts()"
   ]
  },
  {
   "cell_type": "code",
   "execution_count": 76,
   "metadata": {},
   "outputs": [
    {
     "data": {
      "text/html": [
       "<div>\n",
       "<style scoped>\n",
       "    .dataframe tbody tr th:only-of-type {\n",
       "        vertical-align: middle;\n",
       "    }\n",
       "\n",
       "    .dataframe tbody tr th {\n",
       "        vertical-align: top;\n",
       "    }\n",
       "\n",
       "    .dataframe thead th {\n",
       "        text-align: right;\n",
       "    }\n",
       "</style>\n",
       "<table border=\"1\" class=\"dataframe\">\n",
       "  <thead>\n",
       "    <tr style=\"text-align: right;\">\n",
       "      <th></th>\n",
       "      <th>title</th>\n",
       "      <th>distributor</th>\n",
       "      <th>genre</th>\n",
       "      <th>release_time</th>\n",
       "      <th>time</th>\n",
       "      <th>screening_rat</th>\n",
       "      <th>director</th>\n",
       "      <th>dir_prev_bfnum</th>\n",
       "      <th>dir_prev_num</th>\n",
       "      <th>num_staff</th>\n",
       "      <th>num_actor</th>\n",
       "      <th>box_off_num</th>\n",
       "      <th>year</th>\n",
       "      <th>month</th>\n",
       "      <th>weekday</th>\n",
       "      <th>day</th>\n",
       "    </tr>\n",
       "  </thead>\n",
       "  <tbody>\n",
       "    <tr>\n",
       "      <th>19</th>\n",
       "      <td>하하하</td>\n",
       "      <td>기타</td>\n",
       "      <td>드라마</td>\n",
       "      <td>2010-05-05</td>\n",
       "      <td>115</td>\n",
       "      <td>청소년 관람불가</td>\n",
       "      <td>홍상수</td>\n",
       "      <td>NaN</td>\n",
       "      <td>0</td>\n",
       "      <td>74</td>\n",
       "      <td>9</td>\n",
       "      <td>57029</td>\n",
       "      <td>2010</td>\n",
       "      <td>5</td>\n",
       "      <td>2</td>\n",
       "      <td>5</td>\n",
       "    </tr>\n",
       "    <tr>\n",
       "      <th>523</th>\n",
       "      <td>옥희의 영화</td>\n",
       "      <td>기타</td>\n",
       "      <td>드라마</td>\n",
       "      <td>2010-09-16</td>\n",
       "      <td>80</td>\n",
       "      <td>청소년 관람불가</td>\n",
       "      <td>홍상수</td>\n",
       "      <td>NaN</td>\n",
       "      <td>0</td>\n",
       "      <td>57</td>\n",
       "      <td>3</td>\n",
       "      <td>37122</td>\n",
       "      <td>2010</td>\n",
       "      <td>9</td>\n",
       "      <td>3</td>\n",
       "      <td>16</td>\n",
       "    </tr>\n",
       "    <tr>\n",
       "      <th>115</th>\n",
       "      <td>북촌방향</td>\n",
       "      <td>(주) 영화사조제</td>\n",
       "      <td>드라마</td>\n",
       "      <td>2011-09-08</td>\n",
       "      <td>79</td>\n",
       "      <td>청소년 관람불가</td>\n",
       "      <td>홍상수</td>\n",
       "      <td>NaN</td>\n",
       "      <td>0</td>\n",
       "      <td>55</td>\n",
       "      <td>5</td>\n",
       "      <td>46212</td>\n",
       "      <td>2011</td>\n",
       "      <td>9</td>\n",
       "      <td>3</td>\n",
       "      <td>8</td>\n",
       "    </tr>\n",
       "    <tr>\n",
       "      <th>331</th>\n",
       "      <td>다른나라에서</td>\n",
       "      <td>기타</td>\n",
       "      <td>드라마</td>\n",
       "      <td>2012-05-31</td>\n",
       "      <td>89</td>\n",
       "      <td>청소년 관람불가</td>\n",
       "      <td>홍상수</td>\n",
       "      <td>NaN</td>\n",
       "      <td>0</td>\n",
       "      <td>70</td>\n",
       "      <td>2</td>\n",
       "      <td>31101</td>\n",
       "      <td>2012</td>\n",
       "      <td>5</td>\n",
       "      <td>3</td>\n",
       "      <td>31</td>\n",
       "    </tr>\n",
       "    <tr>\n",
       "      <th>506</th>\n",
       "      <td>우리 선희</td>\n",
       "      <td>기타</td>\n",
       "      <td>드라마</td>\n",
       "      <td>2013-09-12</td>\n",
       "      <td>89</td>\n",
       "      <td>청소년 관람불가</td>\n",
       "      <td>홍상수</td>\n",
       "      <td>NaN</td>\n",
       "      <td>0</td>\n",
       "      <td>8</td>\n",
       "      <td>6</td>\n",
       "      <td>69122</td>\n",
       "      <td>2013</td>\n",
       "      <td>9</td>\n",
       "      <td>3</td>\n",
       "      <td>12</td>\n",
       "    </tr>\n",
       "    <tr>\n",
       "      <th>15</th>\n",
       "      <td>자유의 언덕</td>\n",
       "      <td>기타</td>\n",
       "      <td>드라마</td>\n",
       "      <td>2014-09-04</td>\n",
       "      <td>67</td>\n",
       "      <td>청소년 관람불가</td>\n",
       "      <td>홍상수</td>\n",
       "      <td>NaN</td>\n",
       "      <td>0</td>\n",
       "      <td>52</td>\n",
       "      <td>3</td>\n",
       "      <td>39317</td>\n",
       "      <td>2014</td>\n",
       "      <td>9</td>\n",
       "      <td>3</td>\n",
       "      <td>4</td>\n",
       "    </tr>\n",
       "  </tbody>\n",
       "</table>\n",
       "</div>"
      ],
      "text/plain": [
       "      title distributor genre release_time  time screening_rat director  \\\n",
       "19      하하하          기타   드라마   2010-05-05   115      청소년 관람불가      홍상수   \n",
       "523  옥희의 영화          기타   드라마   2010-09-16    80      청소년 관람불가      홍상수   \n",
       "115    북촌방향   (주) 영화사조제   드라마   2011-09-08    79      청소년 관람불가      홍상수   \n",
       "331  다른나라에서          기타   드라마   2012-05-31    89      청소년 관람불가      홍상수   \n",
       "506   우리 선희          기타   드라마   2013-09-12    89      청소년 관람불가      홍상수   \n",
       "15   자유의 언덕          기타   드라마   2014-09-04    67      청소년 관람불가      홍상수   \n",
       "\n",
       "     dir_prev_bfnum  dir_prev_num  num_staff  num_actor  box_off_num  year  \\\n",
       "19              NaN             0         74          9        57029  2010   \n",
       "523             NaN             0         57          3        37122  2010   \n",
       "115             NaN             0         55          5        46212  2011   \n",
       "331             NaN             0         70          2        31101  2012   \n",
       "506             NaN             0          8          6        69122  2013   \n",
       "15              NaN             0         52          3        39317  2014   \n",
       "\n",
       "     month  weekday  day  \n",
       "19       5        2    5  \n",
       "523      9        3   16  \n",
       "115      9        3    8  \n",
       "331      5        3   31  \n",
       "506      9        3   12  \n",
       "15       9        3    4  "
      ]
     },
     "execution_count": 76,
     "metadata": {},
     "output_type": "execute_result"
    }
   ],
   "source": [
    "temp_df =  train[train['dir_prev_bfnum'].isnull()]\n",
    "temp_df[temp_df['director']=='홍상수'].sort_values(by='release_time')\n"
   ]
  },
  {
   "cell_type": "code",
   "execution_count": 77,
   "metadata": {},
   "outputs": [],
   "source": [
    "# dic_list = train[train['dir_prev_bfnum'].isnull()]['director'].value_counts().index.tolist()\n",
    "\n",
    "# for dic in dic_list:\n",
    "#     if dic=='기타':\n",
    "#         train.loc[(train['dir_prev_bfnum'].isnull()) & (train['director'] == dic),'dir_prev_bfnum'] = 0\n",
    "#     else :\n",
    "#         temp_df  = train[train['director']==dic].sort_values(by='release_time')\n",
    "#         temp_idx = temp_df.index.tolist()\n",
    "        \n",
    "#         for i in range(len(temp_idx)):\n",
    "#             if i==0:\n",
    "#                 train.loc[temp_idx[i],'dir_prev_bfnum']=0\n",
    "#             else :\n",
    "#                 train.loc[temp_idx[i],'dir_prev_bfnum'] = train.loc[temp_idx[i-1],'box_off_num']\n",
    "            \n",
    "\n",
    "            \n",
    "# dic_list = test[test['dir_prev_bfnum'].isnull()]['director'].value_counts().index.tolist()\n",
    "\n",
    "# for dic in dic_list:\n",
    "#     if dic=='기타':\n",
    "#         test.loc[(test['dir_prev_bfnum'].isnull()) & (test['director'] == dic),'dir_prev_bfnum'] = 0\n",
    "#     else :\n",
    "#         temp_df  = test[test['director']==dic].sort_values(by='release_time')\n",
    "#         temp_idx = temp_df.index.tolist()\n",
    "        \n",
    "#         for i in range(len(temp_idx)):\n",
    "#             if i==0:\n",
    "#                 test.loc[temp_idx[i],'dir_prev_bfnum']=0\n",
    "#             else :\n",
    "#                 test.loc[temp_idx[i],'dir_prev_bfnum'] = test.loc[temp_idx[i-1],'box_off_num']\n",
    "            \n",
    "\n",
    "        "
   ]
  },
  {
   "cell_type": "code",
   "execution_count": 78,
   "metadata": {},
   "outputs": [
    {
     "data": {
      "text/plain": [
       "title               0\n",
       "distributor         0\n",
       "genre               0\n",
       "release_time        0\n",
       "time                0\n",
       "screening_rat       0\n",
       "director            0\n",
       "dir_prev_bfnum    330\n",
       "dir_prev_num        0\n",
       "num_staff           0\n",
       "num_actor           0\n",
       "box_off_num         0\n",
       "year                0\n",
       "month               0\n",
       "weekday             0\n",
       "day                 0\n",
       "dtype: int64"
      ]
     },
     "execution_count": 78,
     "metadata": {},
     "output_type": "execute_result"
    }
   ],
   "source": [
    "train.isnull().sum()"
   ]
  },
  {
   "cell_type": "code",
   "execution_count": 79,
   "metadata": {},
   "outputs": [
    {
     "data": {
      "text/plain": [
       "0    330\n",
       "1    113\n",
       "2     86\n",
       "3     47\n",
       "4     20\n",
       "5      4\n",
       "Name: dir_prev_num, dtype: int64"
      ]
     },
     "execution_count": 79,
     "metadata": {},
     "output_type": "execute_result"
    }
   ],
   "source": [
    "train['dir_prev_num'].value_counts()"
   ]
  },
  {
   "cell_type": "code",
   "execution_count": 80,
   "metadata": {},
   "outputs": [
    {
     "name": "stderr",
     "output_type": "stream",
     "text": [
      "C:\\Users\\a\\anaconda3\\lib\\site-packages\\seaborn\\_decorators.py:43: FutureWarning: Pass the following variables as keyword args: x, y. From version 0.12, the only valid positional argument will be `data`, and passing other arguments without an explicit keyword will result in an error or misinterpretation.\n",
      "  FutureWarning\n"
     ]
    },
    {
     "data": {
      "text/plain": [
       "<AxesSubplot:xlabel='dir_prev_num', ylabel='box_off_num'>"
      ]
     },
     "execution_count": 80,
     "metadata": {},
     "output_type": "execute_result"
    },
    {
     "data": {
      "image/png": "[encoded data removed]",
      "text/plain": [
       "<Figure size 432x288 with 1 Axes>"
      ]
     },
     "metadata": {
      "needs_background": "light"
     },
     "output_type": "display_data"
    }
   ],
   "source": [
    "sns.barplot(train['dir_prev_num'],train['box_off_num'])"
   ]
  },
  {
   "cell_type": "code",
   "execution_count": 81,
   "metadata": {},
   "outputs": [],
   "source": [
    "# train['dir_prev_num_cat'] = 0\n",
    "# train.loc[(train['dir_prev_num'] ==2) | (train['dir_prev_num'] ==3),'dir_prev_num'] = 1\n",
    "# train.loc[(train['dir_prev_num'] ==4) ,'dir_prev_num'] = 2\n",
    "\n",
    "# test['dir_prev_num_cat'] = 0\n",
    "# test.loc[(train['dir_prev_num'] ==2) | (test['dir_prev_num'] ==3),'dir_prev_num'] = 1\n",
    "# test.loc[(train['dir_prev_num'] ==4) ,'dir_prev_num'] = 2"
   ]
  },
  {
   "cell_type": "code",
   "execution_count": 82,
   "metadata": {},
   "outputs": [
    {
     "data": {
      "text/plain": [
       "<matplotlib.collections.PathCollection at 0x1cfc2cd8908>"
      ]
     },
     "execution_count": 82,
     "metadata": {},
     "output_type": "execute_result"
    },
    {
     "data": {
      "image/png": "[encoded data removed]",
      "text/plain": [
       "<Figure size 432x288 with 1 Axes>"
      ]
     },
     "metadata": {
      "needs_background": "light"
     },
     "output_type": "display_data"
    }
   ],
   "source": [
    "plt.scatter(train['num_staff'],train['box_off_num'])"
   ]
  },
  {
   "cell_type": "code",
   "execution_count": 83,
   "metadata": {},
   "outputs": [],
   "source": [
    "# train['cat_staff'] = 0\n",
    "# train.loc[train['num_staff']>=200,'cat_staff'] = 1\n",
    "\n",
    "# test['cat_staff'] = 0\n",
    "# test.loc[test['num_staff']>=200,'cat_staff'] = 1\n"
   ]
  },
  {
   "cell_type": "code",
   "execution_count": 84,
   "metadata": {},
   "outputs": [
    {
     "data": {
      "text/plain": [
       "<matplotlib.collections.PathCollection at 0x1cfc3340cc8>"
      ]
     },
     "execution_count": 84,
     "metadata": {},
     "output_type": "execute_result"
    },
    {
     "data": {
      "image/png": "[encoded data removed]",
      "text/plain": [
       "<Figure size 432x288 with 1 Axes>"
      ]
     },
     "metadata": {
      "needs_background": "light"
     },
     "output_type": "display_data"
    }
   ],
   "source": [
    "plt.scatter(train['time'],train['box_off_num'])"
   ]
  },
  {
   "cell_type": "code",
   "execution_count": 85,
   "metadata": {},
   "outputs": [],
   "source": [
    "# train['time_cat'] = 0\n",
    "# train.loc[train['time']>=100,'time_cat'] = 1\n",
    "           \n",
    "# test['time_cat'] = 0\n",
    "# test.loc[test['time']>=100,'time_cat'] = 1"
   ]
  },
  {
   "cell_type": "code",
   "execution_count": 86,
   "metadata": {},
   "outputs": [
    {
     "data": {
      "text/plain": [
       "청소년 관람불가    204\n",
       "15세 관람가     202\n",
       "12세 관람가     102\n",
       "전체 관람가       92\n",
       "Name: screening_rat, dtype: int64"
      ]
     },
     "execution_count": 86,
     "metadata": {},
     "output_type": "execute_result"
    }
   ],
   "source": [
    "train['screening_rat'].value_counts()"
   ]
  },
  {
   "cell_type": "code",
   "execution_count": 87,
   "metadata": {},
   "outputs": [
    {
     "name": "stderr",
     "output_type": "stream",
     "text": [
      "C:\\Users\\a\\anaconda3\\lib\\site-packages\\seaborn\\_decorators.py:43: FutureWarning: Pass the following variables as keyword args: x, y. From version 0.12, the only valid positional argument will be `data`, and passing other arguments without an explicit keyword will result in an error or misinterpretation.\n",
      "  FutureWarning\n"
     ]
    },
    {
     "data": {
      "image/png": "[encoded data removed]",
      "text/plain": [
       "<Figure size 432x288 with 1 Axes>"
      ]
     },
     "metadata": {
      "needs_background": "light"
     },
     "output_type": "display_data"
    }
   ],
   "source": [
    "sns.barplot(train['screening_rat'].values,train['box_off_num'].values)\n",
    "plt.show()"
   ]
  },
  {
   "cell_type": "code",
   "execution_count": 88,
   "metadata": {
    "scrolled": true
   },
   "outputs": [
    {
     "name": "stderr",
     "output_type": "stream",
     "text": [
      "C:\\Users\\a\\anaconda3\\lib\\site-packages\\seaborn\\_decorators.py:43: FutureWarning: Pass the following variables as keyword args: x, y. From version 0.12, the only valid positional argument will be `data`, and passing other arguments without an explicit keyword will result in an error or misinterpretation.\n",
      "  FutureWarning\n"
     ]
    },
    {
     "data": {
      "text/plain": [
       "<AxesSubplot:xlabel='num_actor', ylabel='box_off_num'>"
      ]
     },
     "execution_count": 88,
     "metadata": {},
     "output_type": "execute_result"
    },
    {
     "data": {
      "image/png": "[encoded data removed]",
      "text/plain": [
       "<Figure size 432x288 with 1 Axes>"
      ]
     },
     "metadata": {
      "needs_background": "light"
     },
     "output_type": "display_data"
    }
   ],
   "source": [
    "sns.barplot(train['num_actor'],train['box_off_num'])"
   ]
  },
  {
   "cell_type": "code",
   "execution_count": 89,
   "metadata": {},
   "outputs": [],
   "source": [
    "# train['num_actor_cat'] = 0\n",
    "# train.loc[train['num_actor']>7,'num_actor_cat'] = 1\n",
    "\n",
    "# test['num_actor_cat'] = 0\n",
    "# test.loc[test['num_actor']>7,'num_actor_cat'] = 1"
   ]
  },
  {
   "cell_type": "code",
   "execution_count": 90,
   "metadata": {},
   "outputs": [
    {
     "data": {
      "text/plain": [
       "<matplotlib.collections.PathCollection at 0x1cfc4553248>"
      ]
     },
     "execution_count": 90,
     "metadata": {},
     "output_type": "execute_result"
    },
    {
     "data": {
      "image/png": "[encoded data removed]",
      "text/plain": [
       "<Figure size 432x288 with 1 Axes>"
      ]
     },
     "metadata": {
      "needs_background": "light"
     },
     "output_type": "display_data"
    }
   ],
   "source": [
    "plt.scatter(train['dir_prev_bfnum'],train['box_off_num'])"
   ]
  },
  {
   "cell_type": "code",
   "execution_count": 91,
   "metadata": {},
   "outputs": [
    {
     "data": {
      "text/plain": [
       "count        270.00\n",
       "mean     1050442.89\n",
       "std      1791408.30\n",
       "min            1.00\n",
       "25%        20380.00\n",
       "50%       478423.62\n",
       "75%      1286568.62\n",
       "max     17615314.00\n",
       "Name: dir_prev_bfnum, dtype: float64"
      ]
     },
     "execution_count": 91,
     "metadata": {},
     "output_type": "execute_result"
    }
   ],
   "source": [
    "train['dir_prev_bfnum'].describe()"
   ]
  },
  {
   "cell_type": "code",
   "execution_count": 92,
   "metadata": {},
   "outputs": [],
   "source": [
    "q1 = np.percentile(train['dir_prev_bfnum'],25)\n",
    "q3 = np.percentile(train['dir_prev_bfnum'],75)\n",
    "IQR = q3-q1\n",
    "train.loc[train['dir_prev_bfnum']>q3+(2 * IQR),'dir_prev_bfnum'] = q1+ (2 * IQR)\n",
    "\n",
    "q1 = np.percentile(test['dir_prev_bfnum'],25)\n",
    "q3 = np.percentile(test['dir_prev_bfnum'],75)\n",
    "IQR = q3-q1\n",
    "test.loc[test['dir_prev_bfnum']>q3+(2 * IQR),'dir_prev_bfnum'] = q1+ (2 * IQR)"
   ]
  },
  {
   "cell_type": "code",
   "execution_count": 93,
   "metadata": {},
   "outputs": [
    {
     "data": {
      "text/plain": [
       "<matplotlib.collections.PathCollection at 0x1cfc4553308>"
      ]
     },
     "execution_count": 93,
     "metadata": {},
     "output_type": "execute_result"
    },
    {
     "data": {
      "image/png": "[encoded data removed]",
      "text/plain": [
       "<Figure size 432x288 with 1 Axes>"
      ]
     },
     "metadata": {
      "needs_background": "light"
     },
     "output_type": "display_data"
    }
   ],
   "source": [
    "plt.scatter(train['dir_prev_bfnum'],train['box_off_num'])"
   ]
  },
  {
   "cell_type": "code",
   "execution_count": 94,
   "metadata": {},
   "outputs": [
    {
     "data": {
      "text/plain": [
       "Index(['title', 'distributor', 'genre', 'release_time', 'time',\n",
       "       'screening_rat', 'director', 'dir_prev_bfnum', 'dir_prev_num',\n",
       "       'num_staff', 'num_actor', 'box_off_num', 'year', 'month', 'weekday',\n",
       "       'day'],\n",
       "      dtype='object')"
      ]
     },
     "execution_count": 94,
     "metadata": {},
     "output_type": "execute_result"
    }
   ],
   "source": [
    "train.columns"
   ]
  },
  {
   "cell_type": "code",
   "execution_count": 95,
   "metadata": {},
   "outputs": [],
   "source": [
    "ob_cols = ['distributor','genre','screening_rat','director','year','month','weekday','day']\n",
    "scale_cols = ['num_staff','num_actor','time']\n",
    "drop_cols = ['title','release_time','dir_prev_bfnum']"
   ]
  },
  {
   "cell_type": "code",
   "execution_count": 96,
   "metadata": {},
   "outputs": [],
   "source": [
    "from sklearn.preprocessing import LabelEncoder\n",
    "from sklearn.preprocessing import StandardScaler\n",
    "\n",
    "for col in ob_cols:\n",
    "    encoder = LabelEncoder()\n",
    "    train[col] = encoder.fit_transform(train[col])\n",
    "    train[col] = train[col].astype('category')\n",
    "\n",
    "for col in scale_cols:\n",
    "    scaler = StandardScaler()\n",
    "    train[col] = scaler.fit_transform(train[col].values.reshape(-1,1))\n",
    "    \n",
    "    \n",
    "    \n",
    "for col in ob_cols:\n",
    "    encoder = LabelEncoder()\n",
    "    test[col] = encoder.fit_transform(test[col])\n",
    "    test[col] = test[col].astype('category')\n",
    "\n",
    "for col in scale_cols:\n",
    "    scaler = StandardScaler()\n",
    "    test[col] = scaler.fit_transform(test[col].values.reshape(-1,1))"
   ]
  },
  {
   "cell_type": "code",
   "execution_count": 97,
   "metadata": {},
   "outputs": [],
   "source": [
    "# from sklearn.model_selection import train_test_split\n",
    "\n",
    "X = train.drop(drop_cols+['box_off_num'],axis=1,inplace=False)\n",
    "test_ = test.drop(drop_cols,axis=1,inplace=False)\n",
    "y = train['box_off_num']\n",
    "\n",
    "# X_train, X_test, y_train, y_test = train_test_split(X,y)"
   ]
  },
  {
   "cell_type": "code",
   "execution_count": 103,
   "metadata": {},
   "outputs": [],
   "source": [
    "from lightgbm import LGBMRegressor\n",
    "from  sklearn.metrics import mean_squared_error"
   ]
  },
  {
   "cell_type": "code",
   "execution_count": null,
   "metadata": {},
   "outputs": [],
   "source": [
    "clf = LGBMClassifier(objective='multiclass',\n",
    "                             random_state=10,\n",
    "                             max_depth=[1,3, 5, 7] \n",
    "                             learning_rate=[0,]  \n",
    "                             silent=True, \n",
    "                             metric='multi_logloss',\n",
    "                             n_jobs=-1, n_estimators=1000, \n",
    "                             class_weight='balanced',\n",
    "                             colsample_bytree = params['colsample_bytree'], \n",
    "                             min_split_gain= params['min_split_gain'], \n",
    "                             bagging_freq = params['bagging_freq'],\n",
    "                             min_child_weight=params['min_child_weight'],\n",
    "                             num_leaves = params['num_leaves'], \n",
    "                             subsample = params['subsample'],\n",
    "                             reg_alpha= params['reg_alpha'],\n",
    "                             reg_lambda= params['reg_lambda'],\n",
    "                             num_class=len(np.unique(y)),\n",
    "                             bagging_seed=SEED,\n",
    "                             seed=SEED,\n",
    "                             boosting_type ='Dart'"
   ]
  },
  {
   "cell_type": "code",
   "execution_count": 122,
   "metadata": {
    "scrolled": true
   },
   "outputs": [
    {
     "name": "stdout",
     "output_type": "stream",
     "text": [
      "score :  1483948.3516046342\n",
      "score :  1438732.1107737587\n",
      "score :  1531297.6488158072\n",
      "score :  2099608.4644021895\n",
      "score :  2004493.7517421586\n",
      "mean_score :  1711616.0654677097\n"
     ]
    }
   ],
   "source": [
    "from sklearn.model_selection import KFold \n",
    "Kfold = KFold(n_splits = 5)\n",
    "\n",
    "total_score  =[]\n",
    "\n",
    "for train_idx, test_idx in Kfold.split(X):\n",
    "    X_train,X_test = X.loc[train_idx], X.loc[test_idx]\n",
    "    y_train,y_test = y.loc[train_idx], y.loc[test_idx]\n",
    "    \n",
    "    lgb_reg = LGBMRegressor(n_estimators=1000,\n",
    "                           max_depth = 10,\n",
    "                           )\n",
    "    lgb_reg.fit(X_train,y_train)\n",
    "    pred = lgb_reg.predict(X_test)\n",
    "    score = mean_squared_error(y_test,pred,squared = False)\n",
    "    total_score.append(score)\n",
    "    print('score : ',score)\n",
    "\n",
    "print('mean_score : ',np.mean(total_score))"
   ]
  },
  {
   "cell_type": "code",
   "execution_count": 111,
   "metadata": {},
   "outputs": [
    {
     "data": {
      "text/plain": [
       "LGBMRegressor()"
      ]
     },
     "execution_count": 111,
     "metadata": {},
     "output_type": "execute_result"
    }
   ],
   "source": [
    "score :  1196337.8744979778\n",
    "score :  1221346.6866443376\n",
    "score :  1431301.7660584804\n",
    "score :  2015102.908144925\n",
    "score :  1812502.7457378493\n",
    "mean_score :  1535318.396216714"
   ]
  },
  {
   "cell_type": "code",
   "execution_count": null,
   "metadata": {},
   "outputs": [],
   "source": []
  },
  {
   "cell_type": "code",
   "execution_count": 511,
   "metadata": {},
   "outputs": [
    {
     "name": "stdout",
     "output_type": "stream",
     "text": [
      "LinearRegression score :  1788237.612657904\n",
      "RandomForest score :  1715950.3763866476\n"
     ]
    }
   ],
   "source": [
    "from sklearn.linear_model import LinearRegression\n",
    "from sklearn.ensemble import RandomForestRegressor\n",
    "from  sklearn.metrics import mean_squared_error\n",
    "\n",
    "#squared\n",
    "\n",
    "lr_reg = LinearRegression()\n",
    "rnd_reg = RandomForestRegressor(n_estimators=300,max_depth=4)\n",
    "\n",
    "lr_reg.fit(X_train,y_train)\n",
    "rnd_reg.fit(X_train,y_train)\n",
    "\n",
    "pred_lr = lr_reg.predict(X_test)\n",
    "pred_rnd = rnd_reg.predict(X_test)\n",
    "\n",
    "score_lr = mean_squared_error(y_test,pred_lr,squared = False)\n",
    "score_rnd = mean_squared_error(y_test,pred_rnd,squared = False)\n",
    "\n",
    "print('LinearRegression score : ',score_lr)\n",
    "print('RandomForest score : ',score_rnd)"
   ]
  },
  {
   "cell_type": "code",
   "execution_count": 475,
   "metadata": {},
   "outputs": [
    {
     "data": {
      "text/html": [
       "<div>\n",
       "<style scoped>\n",
       "    .dataframe tbody tr th:only-of-type {\n",
       "        vertical-align: middle;\n",
       "    }\n",
       "\n",
       "    .dataframe tbody tr th {\n",
       "        vertical-align: top;\n",
       "    }\n",
       "\n",
       "    .dataframe thead th {\n",
       "        text-align: right;\n",
       "    }\n",
       "</style>\n",
       "<table border=\"1\" class=\"dataframe\">\n",
       "  <thead>\n",
       "    <tr style=\"text-align: right;\">\n",
       "      <th></th>\n",
       "      <th>0</th>\n",
       "    </tr>\n",
       "  </thead>\n",
       "  <tbody>\n",
       "    <tr>\n",
       "      <th>num_staff</th>\n",
       "      <td>0.35</td>\n",
       "    </tr>\n",
       "    <tr>\n",
       "      <th>time</th>\n",
       "      <td>0.35</td>\n",
       "    </tr>\n",
       "    <tr>\n",
       "      <th>num_actor</th>\n",
       "      <td>0.06</td>\n",
       "    </tr>\n",
       "    <tr>\n",
       "      <th>distributor</th>\n",
       "      <td>0.05</td>\n",
       "    </tr>\n",
       "    <tr>\n",
       "      <th>day</th>\n",
       "      <td>0.04</td>\n",
       "    </tr>\n",
       "    <tr>\n",
       "      <th>genre</th>\n",
       "      <td>0.03</td>\n",
       "    </tr>\n",
       "    <tr>\n",
       "      <th>weekday</th>\n",
       "      <td>0.03</td>\n",
       "    </tr>\n",
       "    <tr>\n",
       "      <th>num_actor_cat</th>\n",
       "      <td>0.03</td>\n",
       "    </tr>\n",
       "    <tr>\n",
       "      <th>month</th>\n",
       "      <td>0.02</td>\n",
       "    </tr>\n",
       "    <tr>\n",
       "      <th>dir_prev_num</th>\n",
       "      <td>0.01</td>\n",
       "    </tr>\n",
       "    <tr>\n",
       "      <th>year</th>\n",
       "      <td>0.01</td>\n",
       "    </tr>\n",
       "    <tr>\n",
       "      <th>screening_rat</th>\n",
       "      <td>0.01</td>\n",
       "    </tr>\n",
       "    <tr>\n",
       "      <th>cat_staff</th>\n",
       "      <td>0.00</td>\n",
       "    </tr>\n",
       "    <tr>\n",
       "      <th>director</th>\n",
       "      <td>0.00</td>\n",
       "    </tr>\n",
       "    <tr>\n",
       "      <th>time_cat</th>\n",
       "      <td>0.00</td>\n",
       "    </tr>\n",
       "    <tr>\n",
       "      <th>dir_prev_num_cat</th>\n",
       "      <td>0.00</td>\n",
       "    </tr>\n",
       "  </tbody>\n",
       "</table>\n",
       "</div>"
      ],
      "text/plain": [
       "                    0\n",
       "num_staff        0.35\n",
       "time             0.35\n",
       "num_actor        0.06\n",
       "distributor      0.05\n",
       "day              0.04\n",
       "genre            0.03\n",
       "weekday          0.03\n",
       "num_actor_cat    0.03\n",
       "month            0.02\n",
       "dir_prev_num     0.01\n",
       "year             0.01\n",
       "screening_rat    0.01\n",
       "cat_staff        0.00\n",
       "director         0.00\n",
       "time_cat         0.00\n",
       "dir_prev_num_cat 0.00"
      ]
     },
     "execution_count": 475,
     "metadata": {},
     "output_type": "execute_result"
    }
   ],
   "source": [
    "pd.DataFrame(rnd_reg.feature_importances_,X.columns).sort_values(by=0,ascending=False)"
   ]
  },
  {
   "cell_type": "code",
   "execution_count": 478,
   "metadata": {},
   "outputs": [],
   "source": [
    "lr_reg = LinearRegression()\n",
    "lr_reg.fit(X,y)\n",
    "pred= lr_reg.predict(test_)\n",
    "submission = pd.read_csv('submission.csv')\n",
    "submission['box_off_num'] = pred\n",
    "submission.to_csv('tq.csv',index=False)"
   ]
  },
  {
   "cell_type": "code",
   "execution_count": null,
   "metadata": {},
   "outputs": [],
   "source": []
  }
 ],
 "metadata": {
  "kernelspec": {
   "display_name": "Python 3",
   "language": "python",
   "name": "python3"
  },
  "language_info": {
   "codemirror_mode": {
    "name": "ipython",
    "version": 3
   },
   "file_extension": ".py",
   "mimetype": "text/x-python",
   "name": "python",
   "nbconvert_exporter": "python",
   "pygments_lexer": "ipython3",
   "version": "3.7.6"
  }
 },
 "nbformat": 4,
 "nbformat_minor": 4
}
